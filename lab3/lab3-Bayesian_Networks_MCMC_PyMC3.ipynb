{
 "cells": [
  {
   "cell_type": "markdown",
   "metadata": {},
   "source": [
    "# Lab 3: Bayesian Networks, Markov Chain Monte Carlo (MCMC) and PyMC3\n",
    "\n",
    "In this lab we will focus on expressing probability distributions in the form of Bayesian Networks and using PyMC3 to (approximately) sample from these distributions and perform inference. \n",
    "\n",
    "The last set of exercises in this lab will require the use of the [`pymc3`](https://docs.pymc.io/) package so make sure to have this installed now (recommended) or before you get started on that section. If you are using conda then we recommend using the command `conda install -c anaconda pymc3`.\n",
    "\n",
    "First, we will import the required packages for the initial exercises:"
   ]
  },
  {
   "cell_type": "code",
   "execution_count": 360,
   "metadata": {},
   "outputs": [],
   "source": [
    "import numpy as np\n",
    "import matplotlib.pyplot as plt\n",
    "from scipy.stats import norm\n",
    "%matplotlib inline "
   ]
  },
  {
   "cell_type": "markdown",
   "metadata": {},
   "source": [
    "## 1) Ancestral Sampling\n",
    "\n",
    "We will first recap the concept of ancestral sampling from lectures. Familiarise yourself with the example of a simple Bayesian network shown below. \n",
    "\n",
    "(C=Cloudy, R=Rain, S=Sprinkler, W=Wet Grass and T/F refer to True/False)"
   ]
  },
  {
   "cell_type": "markdown",
   "metadata": {},
   "source": [
    "<img src=\"toy_graphical_model.png\" width=\"700\">"
   ]
  },
  {
   "cell_type": "markdown",
   "metadata": {},
   "source": [
    "This Bayesian network models the joint distribution over 4 variables P(**C**, **R**, **S**, **W**). To save time, the probability mass function for each of these variables are provided as Python functions below:"
   ]
  },
  {
   "cell_type": "code",
   "execution_count": 361,
   "metadata": {},
   "outputs": [],
   "source": [
    "def P_C():\n",
    "    return 0.5\n",
    "\n",
    "def P_R(C):\n",
    "    return 0.2 if C == False else 0.8\n",
    "\n",
    "def P_S(C):\n",
    "    return 0.5 if C == False else 0.1\n",
    "\n",
    "def P_W(R, S):\n",
    "    if not R:\n",
    "        return 0.0 if S == False else 0.9\n",
    "    else:\n",
    "        return 0.9 if S == False else 0.99"
   ]
  },
  {
   "cell_type": "markdown",
   "metadata": {},
   "source": [
    "The concept of ancestral sampling is very simple and refers to a method of sampling from a distribution over multiple variables by first sampling from nodes in the graph that have no parents and then sampling from their child nodes conditioned on those sampled values. This process of sampling the child node variables conditioned on their parents is repeated until all nodes in the graph have a sampled value (remember that a valid graph must be acyclic so this process will always terminate with a finite number of nodes).\n",
    "\n",
    "### 1.1) Perform Ancestral Sampling\n",
    "\n",
    "Use the above functions to:\n",
    "1. Perform ancestral sampling to generate a number of samples (~100-1000 samples) from the joint distribution. (hint [np.random.rand](https://numpy.org/doc/stable/reference/random/generated/numpy.random.rand.html) or [np.random.choice](https://numpy.org/doc/stable/reference/random/generated/numpy.random.choice.html) are helpful to do this)\n",
    "2. Store the generated samples in a list of the form: [[$\\textbf{C}_1$, $\\textbf{R}_1$, $\\textbf{S}_1$, $\\textbf{W}_1$],[$\\textbf{C}_2$, $\\textbf{R}_2$, $\\textbf{S}_2$, $\\textbf{W}_2$], ...] where 1 and 2 refer to sample indices."
   ]
  },
  {
   "cell_type": "code",
   "execution_count": 362,
   "metadata": {
    "scrolled": true
   },
   "outputs": [],
   "source": [
    "# write your code here\n",
    "def ancestral_sampling(n):\n",
    "\n",
    "    ancestral_sample = []\n",
    "\n",
    "    C_sample = np.random.choice(2, n)\n",
    "\n",
    "    for Cs in C_sample:\n",
    "        sample_list = [Cs]\n",
    "\n",
    "        R_sample = np.random.choice(2, 1, p=[1-P_R(bool(Cs)), P_R(bool(Cs))])[0]\n",
    "        sample_list.append(R_sample)\n",
    "\n",
    "        S_sample = np.random.choice(2, 1, p=[1-P_S(bool(Cs)), P_S(bool(Cs))])[0]\n",
    "        sample_list.append(S_sample)\n",
    "\n",
    "        W_sample = np.random.choice(2, 1,\n",
    "                                    p=[1-P_W(bool(R_sample), bool(S_sample)),\n",
    "                                       P_W(bool(R_sample), bool(S_sample))])[0]\n",
    "        sample_list.append(W_sample)\n",
    "        ancestral_sample.append(sample_list)\n",
    "    return ancestral_sample\n",
    "\n",
    "#print(ancestral_samples)\n"
   ]
  },
  {
   "cell_type": "markdown",
   "metadata": {},
   "source": [
    "The ability to obtain a large number of samples from the joint distribution like this is very powerful because it allows for estimates of many different quantities relating to the distribution to be calculated. Use the list of samples to compute and print out estimates of the following: \n",
    "- Marginal distributions of each variable: P(**C**), P(**R**), P(**S**) and P(**W**).\n",
    "- Conditional distributions of each variable where **W**=T: P(**C** | **W**=T), P(**R** | **W**=T) and P(**S** | **W**=T) (hint discard samples where **W**=F).\n",
    "\n"
   ]
  },
  {
   "cell_type": "code",
   "execution_count": 363,
   "metadata": {},
   "outputs": [
    {
     "name": "stdout",
     "output_type": "stream",
     "text": [
      "margin distribution for C R S W is T [[0.492 0.478 0.303 0.626]]\n",
      "margin distribution for C R S W is F [[0.508 0.522 0.697 0.374]] \n",
      "\n",
      "w=true distribution for C R S W is T [[0.78594249 0.76357827 0.48402556 1.        ]]\n",
      "w=true distribution for C R S W is F [[0.21405751 0.23642173 0.51597444 0.        ]] \n",
      "\n"
     ]
    }
   ],
   "source": [
    "# write your code here\n",
    "from scipy.stats.contingency import margins\n",
    "\n",
    "def print_probability(samples, distribution_string):\n",
    "    wedge, tool = margins(np.array(ancestral_samples))\n",
    "\n",
    "    print(distribution_string, \"for C R S W is T\", tool / len(samples))\n",
    "    print(distribution_string, \"for C R S W is F\", 1 - tool / len(samples), \"\\n\")\n",
    "\n",
    "number_of_ancestral_sample = 1000\n",
    "ancestral_samples = ancestral_sampling(number_of_ancestral_sample)\n",
    "ancestral_samples_array = np.array(ancestral_samples)\n",
    "print_probability(ancestral_samples_array, \"margin distribution\")\n",
    "\n",
    "\n",
    "w_T_samples = [s for s in ancestral_samples if s[3]==1]\n",
    "\n",
    "print_probability(np.array(w_T_samples), \"w=true distribution\")"
   ]
  },
  {
   "cell_type": "markdown",
   "metadata": {},
   "source": [
    "For this simple example distribution you may have noticed that exact values for all of these quantities could have been computed directly without the need for sampling. However, as we will see in the following exercises there are many cases where sampling is still feasible but exact or direct computation is not."
   ]
  },
  {
   "cell_type": "markdown",
   "metadata": {},
   "source": [
    "## 2) Markov Chain Monte Carlo\n",
    "\n",
    "Markov Chain Monte Carlo methods are a set of algorithms with the purpose of generating samples from a distribution. Let's break down the meaning of the individual terms:\n",
    "  - **Monte Carlo** simply refers to the idea of approximating a complicated system with a statistical sample.\n",
    "  - A **Markov chain** refers to a stochastic process involving a number of probabilisitic state transitions from one state to another. The **Markov** property states that any given state transition probability is determined by only the current state not any of the preceding states.\n",
    " \n",
    "Together, Markov Chain Monte Carlo methods are a set of methods that utilise a Markov chain to generate samples from some desired distribution. The Markov chain transition probabilites are set up in such a way that the sequence of sampled states of the chain will eventually converge to this desired distribution. Note that the initial states of the chain may be sampled from distributions far from the desired distribution which is why they are typically discarded."
   ]
  },
  {
   "cell_type": "markdown",
   "metadata": {},
   "source": [
    "### 2.1) Defining a Gaussian probability density function\n",
    "We will first define a simple distribution that we intend to generate samples from. In the cell below, create a function `gaussian_pdf` that has parameters mean ($\\mu$) and standard deviation ($\\sigma$) and returns a function for the Gaussian probability density function corresponding to those parameters: $$\\Large p(x) = \\frac{1}{\\sqrt{2\\pi\\sigma^2}}e^{-\\frac{1}{2}(\\frac{x-\\mu}{\\sigma})^2}$$\n",
    "\n",
    "You are free to use the `norm` function from [`scipy.stats.norm`](https://docs.scipy.org/doc/scipy/reference/generated/scipy.stats.norm.html) or define this function directly from the equation using `numpy`. Note that `gaussian_pdf` should take just two parameters (`mu` and `sigma`) and should **return a function** $p(x)$ that takes a single parameter.\n",
    "\n",
    "For this implementation it may be useful to use a `lambda` function which is a very useful `Python` feature that allows the creation of anonymous functions. If this concept is unfamiliar to you then please see this python tutorial [here](https://www.w3schools.com/python/python_lambda.asp)."
   ]
  },
  {
   "cell_type": "code",
   "execution_count": 364,
   "metadata": {},
   "outputs": [],
   "source": [
    "# write your code here\n",
    "def gaussian_pdf(mu, sigma1):\n",
    "    dis = norm(loc=mu, scale=sigma1)\n",
    "    return lambda px : norm.pdf(px)"
   ]
  },
  {
   "cell_type": "markdown",
   "metadata": {},
   "source": [
    "The code below uses this function to create and plot a Gaussian pdf with `mu=0.0` and `sigma=1.0`."
   ]
  },
  {
   "cell_type": "code",
   "execution_count": 365,
   "metadata": {},
   "outputs": [
    {
     "data": {
      "text/plain": "<Figure size 1000x500 with 1 Axes>",
      "image/png": "[encoded data removed]"
     },
     "metadata": {},
     "output_type": "display_data"
    }
   ],
   "source": [
    "true_mean = 0.0\n",
    "true_variance = 1.0\n",
    "\n",
    "z = np.linspace(-500, 500, 500)\n",
    "true_pdf = gaussian_pdf(mu=true_mean, sigma1=np.sqrt(true_variance))\n",
    "\n",
    "plt.figure(figsize=(10,5))\n",
    "plt.plot(z, true_pdf(z))\n",
    "plt.xlabel('$x$')\n",
    "plt.ylabel('$p(x)$')\n",
    "plt.show()"
   ]
  },
  {
   "cell_type": "markdown",
   "metadata": {},
   "source": [
    "### 2.2) Metropolis Algorithm"
   ]
  },
  {
   "cell_type": "markdown",
   "metadata": {},
   "source": [
    "The Metropolis Algorithm is one of the simplest instances of a Markov Chain Monte Carlo method. The goal of the algorithm is to generate samples from some distribution $p(z)$ which in our case is a univariate Gaussian distribution. Let us assume that we do not have an easy way to sample from this distribution (in reality this distribution is very easy to sample from) and that we can only evaluate the unnormalised density, $\\tilde{p}(z)$, where\n",
    "$$\\large p(z) = \\frac{\\tilde{p}(z)}{Z_p}$$ and $Z_p$ may be unknown or computationally intractable. \n",
    "\n",
    "To generate samples, $z_1, z_2, ... z_N$ , from $p(z)$ using an MCMC method such as the Metropolis algorithm we must first define a proposal distribution, $q(z_{t+1}^\\star \\vert z_{t})$, that uses the current state in the chain, $z_t$, to propose new states, $z_{t+1}^\\star$. The only requirements for this proposal distribution are that it can easily be sampled directly and that it is symmetric (although this method can be extended for non-symmetric proposal distributions). For simplicity, in this case we will choose to use a Gaussian proposal distribution with a mean of $z_t$ and a fixed variance $\\sigma_\\star^2$: \n",
    "$$\\large z_{t+1}^\\star \\sim \\mathcal{N}(z_t, \\sigma_\\star^2)$$\n",
    "\n",
    "[comment]: <> (At this point, to clarify, we have an unnormalised density corresponding to the distribution that we wish to be able to sample from and proposal distribution that we can easily sample from. Both distributions are Gaussian to keep things simple for this exercise but remember that this algorithm can be applied to any density.)\n",
    "\n",
    "An initial value for the first state, $z_1$, is chosen at the beginning and is used to propose a value for the next state. The newly proposed value is either accepted as the next state in the chain, $z_2 = z_2^\\star$, or it is rejected, $z_2 = z_1$. Acceptance occurs probabilistically with an acceptance probability of:\n",
    "$$\\large A(z_{t+1}^\\star, z_t) = \\text{min}\\Big(1, \\frac{\\tilde{p}(z_{t+1}^\\star)}{\\tilde{p}(z_t)}\\Big)$$.\n",
    "\n",
    "Note that when $\\tilde{p}(z_{t+1}^\\star)\\geq\\tilde{p}(z_t)$ the new sample is always accepted. It turns out that if we take enough samples in this way then the distribution of $z_t$ converges to $p(z)$."
   ]
  },
  {
   "cell_type": "markdown",
   "metadata": {},
   "source": [
    "Implement the Metropolis algorithm described above and use it to generate samples from `gaussian_pdf` with `mu=0.0` and `sigma=1.0`. Set your initial sample value $z_1=0$ and the proposal distribution variance $\\sigma_\\star^2=0.25$. (hint sampling from the proposal distribution can be achieved using [np.random.normal](https://numpy.org/doc/stable/reference/random/generated/numpy.random.normal.html))\n",
    "\n",
    "The plotting functions `plot_samples` and `plot_samples_histogram` have been provided to help with visualising your implementation:\n",
    "- Both functions require the `true_pdf` function and a list of generated samples `samples_list` as arguments.\n",
    "- `plot_samples` generates a single plot per sample so this should be used with a small number of samples ($N\\leq20$).\n",
    "- `plot_samples_histogram` creates a single histogram plot and is a better visualisation for a larger number of samples ($N\\geq5000$)"
   ]
  },
  {
   "cell_type": "code",
   "execution_count": 366,
   "metadata": {},
   "outputs": [],
   "source": [
    "def plot_samples(true_pdf, samples_list):\n",
    "    assert len(samples_list) <= 20, \"Number of samples too high! Please call this function with a maximum of 20 samples.\"\n",
    "    for i in range(1, len(samples_list)):\n",
    "        plt.figure(figsize=(10,5))\n",
    "        plt.plot(z, true_pdf(z))\n",
    "        for sample in samples_list[:i-1]:\n",
    "            plt.axvline(sample, c='green')\n",
    "        plt.axvline(samples_list[i-1], c='red')\n",
    "        plt.show()\n",
    "\n",
    "def plot_samples_histogram(true_pdf, samples_list):\n",
    "    plt.figure(figsize=(10,5))\n",
    "    plt.plot(z, true_pdf(z))\n",
    "    plt.hist(samples_list, density=True, histtype='step', bins=50)\n",
    "    plt.show()"
   ]
  },
  {
   "cell_type": "code",
   "execution_count": 367,
   "metadata": {
    "scrolled": false
   },
   "outputs": [],
   "source": [
    "# write your code here\n",
    "true_mean = 0.0\n",
    "true_variance = 1.0\n",
    "\n",
    "z = np.linspace(-5.0, 5.0, 500)\n",
    "true_pdf = gaussian_pdf(mu=true_mean, sigma1=np.sqrt(true_variance))\n",
    "\n",
    "def Metropolis_Gaussian(p, z0=0, n_samples=100, burn_in=0, m=1):\n",
    "    # Pre-allocate memory for samples\n",
    "    samples = []\n",
    "\n",
    "    # Store initial value\n",
    "    samples.append(z0)\n",
    "    z_p = z0\n",
    "    # Compute the current likelihood\n",
    "    l_cur = p(z_p)\n",
    "\n",
    "    # Counter\n",
    "    iter = 0\n",
    "    # Total number of iterations to make to achieve desired number of samples\n",
    "    iters = (n_samples * m) + burn_in\n",
    "\n",
    "    # Sample outside the for loop\n",
    "    innov = np.random.normal(loc=z_p, scale=0.5, size=iters)\n",
    "    u = np.random.rand(iters)\n",
    "\n",
    "    while iter < iters:\n",
    "\n",
    "        # Random walk innovation on z\n",
    "        cand = z_p + innov[iter]\n",
    "\n",
    "        # Compute candidate likelihood\n",
    "        l_cand = p(cand)\n",
    "\n",
    "        # Accept or reject candidate\n",
    "        if l_cand / l_cur > u[iter]:\n",
    "            z_p = cand\n",
    "            l_cur = l_cand\n",
    "            #samples[(iter - burn_in) // m] = z\n",
    "            samples.append(z_p)\n",
    "\n",
    "        # # Only keep iterations after burn-in and for every m-th iteration\n",
    "        # if iter > burn_in and iter % m == 0:\n",
    "        #     samples[(iter - burn_in) // m] = z\n",
    "\n",
    "        iter += 1\n",
    "\n",
    "    return np.array(samples)\n",
    "\n"
   ]
  },
  {
   "cell_type": "markdown",
   "metadata": {},
   "source": [
    "### Exercises:\n",
    "1. Estimate the mean and variance of the true distribution from your samples. How does the accuracy of these estimates change if you generate more samples?\n",
    "2. The current implementation uses a normalised Gaussian pdf. Think about what would happen if the density function was unnormalised. Change `gaussian_pdf` to multiply all of its outputs by some constant value and check that you were correct.\n",
    "3. Go back to Section 2.1 and experiment with different density functions:\n",
    "    - Create a function `gaussian_mixture_pdf` that returns the density function for a mixture of two Gaussians with parameters: $\\mu_1 = -2, \\sigma_1=0.5, \\mu_2=2, \\sigma_2=0.5$. This can be achieved simply by creating the two density functions separately using `gaussian_pdf` and summing the result. Set this density to `true_pdf` and run the rest of your code again to generate and plot the distribution of samples from the Gaussian mixture. What do you notice about the distribution of your samples?\n",
    "    - (Optional) Implement the density function for a Uniform distribution, `uniform_pdf`, over the range $(-2, 2)$ and run the code again. (hint: you can use [scipy.stats.uniform](https://docs.scipy.org/doc/scipy/reference/generated/scipy.stats.uniform.html) or implement it yourself using numpy)."
   ]
  },
  {
   "cell_type": "code",
   "execution_count": 368,
   "outputs": [
    {
     "name": "stdout",
     "output_type": "stream",
     "text": [
      "[ 0.00000000e+00 -2.72011611e-02 -3.27737941e-01 -1.39934625e+00\n",
      " -1.52454857e+00 -1.48329310e+00 -1.56123608e+00 -1.05964264e+00\n",
      " -9.34423842e-01 -8.42247393e-01 -4.26164150e-01 -9.44059091e-01\n",
      " -1.18294072e+00 -4.07128473e-01 -7.93388296e-01 -8.23699929e-01\n",
      " -1.37604040e-01 -7.06680861e-02 -1.93397866e-01 -7.25623752e-02\n",
      "  7.83502176e-01  1.44968056e+00  8.16401422e-01  3.25432551e-01\n",
      " -9.48703500e-02 -1.76025883e-01  2.51222602e-01  6.53358148e-01\n",
      "  2.96356272e-01  2.44233072e-01  4.16861189e-01  4.44099215e-01\n",
      "  5.15079287e-01  7.50674496e-01  1.73296807e-01 -1.62994674e-01\n",
      " -7.09830138e-01 -4.87348934e-01 -3.86638206e-01 -6.89939351e-01\n",
      " -8.82472406e-01 -7.62977065e-01 -8.32865887e-01 -8.09197876e-01\n",
      " -1.37286656e+00 -1.19406502e+00 -4.63117414e-01  4.19000465e-01\n",
      "  5.21479231e-01  1.06583238e+00  1.06794962e-01 -3.67372798e-01\n",
      "  8.21598555e-02 -7.93811032e-01 -1.70950167e+00 -1.31125423e+00\n",
      " -9.87361142e-01 -1.74283583e-01 -3.04945402e-01 -6.37236443e-01\n",
      " -2.96743793e-01  3.02503122e-01 -7.36265765e-02 -5.99879016e-01\n",
      "  2.99332829e-01  2.61935514e-01  3.89216004e-01  9.01609498e-01\n",
      "  9.05170412e-01  1.08871596e+00  1.75933677e-02 -7.40564383e-01\n",
      " -7.06878648e-01 -1.91301609e-01  4.53041000e-01  1.16773809e+00\n",
      "  5.60682130e-01  6.29777814e-01  7.93868535e-01  6.61582071e-01\n",
      " -2.37412746e-01  3.94032895e-01  7.39708705e-01  7.63867888e-01\n",
      "  6.11053552e-01  1.76363506e-01 -2.50089209e-01 -6.51026797e-01\n",
      " -7.11466193e-01 -2.26681783e-01  4.61941649e-01 -3.69694156e-01\n",
      " -1.47221219e+00 -9.32911795e-01 -2.02684746e+00 -2.14684508e+00\n",
      " -1.99456113e+00 -1.70617628e+00 -1.67925655e+00 -1.15369576e+00\n",
      " -1.23486636e+00 -1.25841752e+00 -1.20530170e+00 -9.51036236e-01\n",
      " -2.11005054e-01 -9.32176967e-01 -1.01538414e+00 -8.93106875e-01\n",
      " -5.88111030e-01 -3.01639472e-01  1.14188211e-02 -5.20656471e-01\n",
      " -4.62273684e-01 -1.97147477e-01  8.17636958e-01  7.30953288e-01\n",
      "  6.44954753e-01  7.61708859e-01  1.15268958e+00  1.17491487e+00\n",
      "  1.19812852e+00  1.25082243e+00  3.43471551e-01  4.92490613e-01\n",
      " -4.57891351e-01 -4.26211788e-01 -3.70280547e-01 -7.01462469e-02\n",
      " -3.65708863e-01 -7.70457899e-01 -1.16034901e+00 -9.38760180e-01\n",
      " -6.77652962e-01 -5.08619585e-01 -7.28037797e-01 -7.42674626e-01\n",
      " -6.25171026e-01 -1.06945639e+00 -1.11637295e+00 -6.00229392e-01\n",
      " -7.27840537e-01 -5.32164851e-01 -1.40412831e+00 -1.39621210e+00\n",
      " -1.40367559e+00 -1.55425548e+00 -1.55202837e+00 -1.68490652e+00\n",
      " -1.31007933e+00 -1.58208359e+00 -1.53279004e+00 -2.10739034e+00\n",
      " -2.51749214e+00 -2.64553537e+00 -2.43016769e+00 -2.35890878e+00\n",
      " -2.50825496e+00 -2.72546435e+00 -2.35952655e+00 -2.11519003e+00\n",
      " -1.50992492e+00 -1.45008356e+00 -7.27910535e-01 -5.01662646e-01\n",
      " -1.41998163e-01 -5.80964406e-01 -8.56599693e-01 -1.90032159e-01\n",
      " -5.60906599e-01 -6.01983595e-01 -4.54057803e-01 -9.49948789e-01\n",
      " -4.90010519e-01 -7.07646845e-01 -7.18719771e-01 -1.72485545e-01\n",
      " -1.17686606e-01 -1.01339393e+00 -2.50663982e-01 -9.39790307e-01\n",
      " -3.25533590e-01 -3.56797638e-01 -2.75956737e-02  1.77200930e-01\n",
      "  3.00260780e-01 -4.93493740e-02  2.52984635e-01 -2.94393320e-01\n",
      " -3.84529876e-01 -1.21738779e+00 -8.95377746e-01 -1.16639255e+00\n",
      " -1.19842749e+00 -1.19664049e+00 -8.10978549e-01 -9.98811102e-01\n",
      " -4.72600800e-01  2.44043525e-01  5.76585089e-01 -1.26265993e-01\n",
      "  6.32038929e-01  4.37068771e-01  3.48789209e-01  5.84540945e-01\n",
      "  2.72632321e-02 -6.80960800e-02 -1.80287268e-01 -3.24703755e-01\n",
      " -2.12994968e-01 -5.42712555e-01  9.40605209e-02  4.41935285e-02\n",
      " -2.46016348e-01 -3.66333524e-01  2.44763840e-02  3.99197615e-01\n",
      "  4.88398407e-01  2.89902017e-01  4.56391010e-01  2.60512890e-01\n",
      " -3.27956382e-01 -9.11670127e-02 -5.47634036e-01 -2.32416433e-01\n",
      " -2.95903133e-03 -7.13054886e-01 -3.69888620e-01 -8.74952255e-01\n",
      " -1.03523926e+00 -3.18843268e-01 -1.72425534e-01 -1.09291363e-01\n",
      "  1.34417769e+00  2.05090857e+00  1.87133192e+00  1.76627231e+00\n",
      "  2.35415129e+00  2.05735338e+00  2.06606300e+00  1.35148883e+00\n",
      "  8.66411967e-01  6.75301810e-01  1.28739972e-01 -8.09175089e-01\n",
      " -5.76849704e-01 -1.50655706e-01 -3.06101367e-01 -7.03120300e-02\n",
      "  6.55280773e-02 -9.33337590e-01  2.46837878e-02  5.25993393e-01\n",
      "  8.85925861e-01  9.74433913e-01  1.10307778e+00  1.11828354e+00\n",
      "  8.11425268e-01  7.97556572e-01  4.84467607e-01  3.53018272e-02\n",
      " -2.49014528e-01 -2.89655152e-01  5.68509976e-03 -4.27706537e-01\n",
      " -1.82501831e-01 -3.03325465e-01 -1.57555904e-01 -8.02363816e-01\n",
      " -4.03473856e-01 -4.37638906e-01 -5.59077901e-01  2.15234027e-02\n",
      " -3.12762708e-01 -7.57818402e-01 -6.52922658e-01  1.70799589e-01\n",
      "  2.63152605e-01  2.60978013e-01 -4.29567170e-01 -5.96390676e-01\n",
      " -7.01631808e-01 -1.51125798e-01 -5.10709887e-01 -9.13502491e-01\n",
      " -1.56949836e+00 -2.27724093e+00 -1.61089038e+00 -8.94938924e-01\n",
      " -1.15390278e+00 -1.40633512e+00 -1.06174901e+00 -1.70028097e+00\n",
      " -1.79626033e+00 -8.06077798e-01 -1.09701635e+00 -3.57348485e-01\n",
      "  3.17955741e-01 -4.04436979e-01 -1.16728358e-01 -1.81528621e-02\n",
      " -2.42221938e-01  6.33382375e-01 -9.79893369e-02  2.94911765e-01\n",
      "  6.71901308e-01  4.97274840e-01  2.37406409e-01  4.56215671e-01\n",
      "  6.83848394e-01  5.62491217e-01  3.11415401e-01  4.41340413e-01\n",
      "  6.32970197e-01  3.11297197e-01  1.10563222e+00  8.87730690e-01\n",
      "  3.84561492e-01  1.33669166e-01  3.93987625e-01  9.24412675e-01\n",
      "  4.03858489e-01  9.34799830e-01  1.33171577e+00  1.64258692e+00\n",
      "  1.56347435e+00  2.80920389e-01  3.83127959e-01  3.98486198e-01\n",
      "  1.44868250e-02  2.50193580e-02  1.62135404e-01  1.15367070e+00\n",
      "  1.55611604e+00  1.80764601e+00  1.21505324e+00  1.32731312e+00\n",
      "  1.34055092e+00  9.07134139e-01  1.27913341e+00  1.67054323e+00\n",
      "  1.46556062e+00  8.92052101e-01  1.80921098e-01  1.98386406e-01\n",
      "  2.36908031e-02 -2.55630888e-01 -3.95408274e-01 -5.59719618e-01\n",
      " -6.88785312e-01 -9.87867119e-01 -2.42298438e+00 -2.60921094e+00\n",
      " -2.08507355e+00 -1.98258404e+00 -1.19550457e+00 -7.92269998e-01\n",
      " -7.89183482e-01 -1.20819823e+00 -1.19309816e+00 -9.66743967e-01\n",
      " -6.93312544e-01 -5.19243237e-01 -8.62788492e-01 -1.12996297e+00\n",
      " -1.31878136e+00 -1.48547956e+00 -1.70951782e+00 -1.67828441e+00\n",
      " -1.71756555e+00 -1.90893544e+00 -1.68729438e+00 -1.08228368e+00\n",
      " -6.19392481e-02 -4.16837134e-02 -3.29285316e-01  2.91833234e-01\n",
      "  1.82192761e-01 -2.01579745e-01  1.27031799e-01  2.17551481e-01\n",
      "  4.88762884e-01  5.05322805e-01 -1.43392878e-01 -5.11680084e-01\n",
      " -7.04416666e-01 -7.42110007e-01 -1.55917933e+00 -1.63533760e+00\n",
      " -9.37237676e-01 -8.60106287e-01 -8.53272158e-01 -1.03949295e+00\n",
      " -8.24895039e-01 -9.94504086e-01 -8.88920713e-01 -7.75222836e-01\n",
      " -5.32937465e-01 -4.42959055e-01 -4.32902122e-01 -2.93619599e-01\n",
      "  7.43801345e-01  7.81800590e-01  2.00604712e-01  1.55090342e-01\n",
      " -2.69628086e-01 -1.19707391e-01 -9.80343063e-01 -6.86890525e-01\n",
      " -2.92405927e-01  2.38597808e-01 -1.25002081e+00 -1.45265549e+00\n",
      " -1.26436888e+00 -1.62574399e+00 -1.57634005e+00 -1.77399001e+00\n",
      " -1.68755690e+00 -1.63992923e+00 -1.35054388e+00 -1.10618103e+00\n",
      " -8.48296617e-01 -6.45024842e-01 -1.58625054e+00 -1.17080445e+00\n",
      " -9.82085283e-01 -8.65374673e-01 -1.09173665e+00 -9.89702756e-01\n",
      " -7.13403833e-01 -9.42144092e-01 -1.26995828e+00 -8.25833372e-01\n",
      "  3.59968410e-03 -1.52658285e-01 -2.45253652e-01 -1.13799846e-01\n",
      "  7.41905096e-01  4.74160868e-01 -8.31273088e-01 -3.52242684e-01\n",
      "  4.46743631e-01  7.66933749e-01  1.12630332e+00  1.21248525e+00\n",
      "  1.20354186e+00  7.62316110e-01  2.37411167e-01  6.67320782e-01\n",
      "  1.26475658e+00  1.22412016e+00  1.64178371e+00  1.02449886e+00\n",
      "  1.60687834e-01 -1.54200994e-01 -2.06873289e-01  7.46807496e-01\n",
      "  6.60252920e-01  1.45437836e+00  8.10420396e-01  9.95738506e-01\n",
      "  1.01485040e+00  7.12259790e-01  9.78338358e-01  7.22167737e-01\n",
      "  8.24140386e-01  1.10534893e+00  1.46768498e+00  1.54355493e+00\n",
      "  1.25696076e+00  1.24518362e+00  1.25957271e+00  1.20414136e+00\n",
      "  5.73637993e-01  9.65456836e-01  7.79412618e-01  8.09201572e-01\n",
      "  1.00451993e+00  1.40470718e+00  1.52080628e+00  1.82927690e+00\n",
      "  8.95370590e-01  6.01812971e-01  6.44185229e-01 -1.41219096e-02\n",
      " -2.26139388e-01  5.36681373e-04  1.16654641e-01  8.45607648e-01\n",
      " -4.79562417e-01 -4.17202701e-01 -6.84958356e-01 -6.57263838e-01\n",
      " -8.58188927e-01 -4.95803157e-01 -2.57127206e-01  4.53021828e-01\n",
      "  6.06393473e-01  9.79515786e-01  1.52057154e+00  1.12430980e+00\n",
      "  1.35080039e+00  1.63574137e+00  1.68499536e+00  1.10671131e+00\n",
      "  1.12292420e+00  1.74250898e+00  1.50132451e+00  1.02593605e+00\n",
      "  1.36208156e+00  7.59288984e-01  1.01164976e+00  1.76314621e+00\n",
      "  1.42894779e+00  1.00641402e+00  3.22986827e-01 -6.05146372e-01\n",
      " -1.33316053e-01  8.88873918e-02  5.05900094e-02  2.79622089e-01\n",
      "  3.32688252e-01  1.00363116e-01 -5.15699087e-01 -7.56692276e-01\n",
      " -3.28407680e-02 -6.24544195e-02 -1.72708220e-02  5.57834339e-01\n",
      " -9.28820546e-03 -9.17050878e-01 -4.35656787e-01 -4.17501241e-01\n",
      "  6.98413157e-04  9.58896233e-02 -2.43161561e-01 -6.24498203e-02\n",
      " -7.24096652e-01 -8.49621263e-01 -7.85593295e-01 -6.43896582e-01\n",
      " -1.73306822e-01  6.42056649e-01  3.42920350e-01 -9.85024970e-02\n",
      "  5.80926690e-01  1.66193210e-01  9.61512025e-01  3.23503403e-01\n",
      "  8.59551541e-01  5.14445583e-01 -2.56695299e-01 -5.11067725e-01\n",
      " -3.76689664e-01 -8.33538113e-01 -7.48364705e-02 -7.19354551e-01\n",
      " -7.50856003e-01 -7.80654255e-01 -6.69645033e-01 -1.24894106e+00\n",
      " -1.12123512e+00 -9.02900194e-01 -1.07882508e+00 -3.50142572e-01\n",
      " -3.43454677e-01 -4.38382120e-01 -2.40957906e-01 -5.06405365e-01\n",
      " -1.09240917e+00 -1.84404192e-01  7.07217584e-01  1.03504220e+00\n",
      "  1.72998700e+00  1.58636384e+00  1.22699888e+00  6.61639545e-01\n",
      "  1.07049422e+00  7.30608461e-01  8.54534132e-01  5.45873711e-01\n",
      "  7.78595241e-01  6.65532205e-01  9.17605528e-01  9.95132996e-01\n",
      "  1.19656456e+00  5.93079077e-01 -1.42321916e-01  1.64631814e-01\n",
      "  1.70538346e-01  5.83000657e-01 -4.40390950e-01  6.95821616e-01\n",
      " -2.13332653e-01 -6.69678150e-01 -8.44582739e-01  3.54059587e-01\n",
      "  4.87616361e-01  9.92221025e-02  2.93475868e-01 -1.96298077e-01\n",
      " -2.28841945e-01 -5.97908523e-01 -4.56499156e-01 -1.91155541e-01\n",
      " -1.10061095e+00 -1.29064904e+00 -6.47382359e-01 -1.43836617e+00\n",
      " -1.61852586e+00 -2.61596718e+00 -1.76235953e+00 -1.55195495e+00\n",
      " -1.48529269e+00 -6.23800040e-01 -1.27530961e+00 -8.45892631e-01\n",
      " -1.01493845e+00 -7.73622434e-01 -9.10089656e-01 -9.74445362e-01\n",
      " -6.24269897e-01 -6.39706027e-01  1.07573014e-01  5.95818504e-01\n",
      "  6.40450293e-01  3.25111353e-01  3.10643069e-01 -1.56463113e-01\n",
      "  9.33843005e-01  3.49698481e-01  6.76053715e-01  1.34912316e+00\n",
      "  8.62598226e-01  1.29093243e+00  1.43558593e+00  1.43239503e+00\n",
      "  1.50646645e+00  7.46484983e-01 -6.67836722e-02 -5.26850154e-01\n",
      " -1.39388060e+00 -7.57828260e-01 -1.30667708e+00 -1.78878371e+00\n",
      " -1.70986753e+00 -1.54877709e+00 -1.39714182e+00 -1.13025502e+00\n",
      " -1.34579480e+00 -8.71461365e-01 -7.98631121e-01 -1.16363132e+00\n",
      " -8.04993916e-01 -2.42748841e-01 -1.41467779e-01  1.05050673e-01\n",
      " -3.16397144e-01  3.84228566e-01  1.39115545e+00  1.70412061e+00\n",
      "  1.26452845e+00  1.01907742e+00  8.13499800e-01  8.41724604e-01\n",
      "  7.95614310e-01  1.06743989e+00  1.20057248e+00  1.37116071e+00\n",
      "  1.10101846e+00  9.44401690e-01  7.08162763e-01  1.28398946e+00\n",
      "  1.03342741e+00  5.90596836e-01 -3.53479923e-02 -3.27334882e-01\n",
      " -6.23673395e-01 -3.02968676e-01  2.28119320e-01  5.05540460e-01\n",
      "  4.63353841e-01  5.13125684e-01  4.64365510e-01  7.39686038e-01\n",
      "  1.26869908e+00  1.14863956e+00  7.95105553e-01  7.99480440e-01\n",
      "  2.09974964e-01 -3.21568635e-01 -6.12402021e-02 -5.91689490e-01\n",
      " -9.90612878e-02 -4.22167686e-01 -6.85496915e-01 -2.77409135e-01\n",
      "  3.81648159e-01 -1.81997287e-01 -1.11962799e+00 -1.27798536e+00\n",
      " -7.22464921e-02 -5.92110148e-01  1.04392462e-02  7.32652759e-01\n",
      "  4.24308681e-01 -6.72878619e-01 -6.62211849e-01 -1.58628665e-01\n",
      " -8.29441525e-01 -7.75991381e-01 -8.40286984e-01 -1.49584557e+00\n",
      " -9.79778660e-01 -5.78125818e-01 -3.22083393e-01 -8.36566455e-01\n",
      " -5.00788028e-01 -2.71218148e-01 -1.03977464e+00 -1.24625143e+00\n",
      " -8.68650865e-01 -7.25018577e-01  1.38705000e-01 -2.70357333e-01\n",
      "  1.36065981e-01  3.35457173e-01  5.85492839e-01  5.00090845e-01\n",
      "  5.09564263e-01  3.94127869e-01  5.57625770e-01  6.15683558e-01\n",
      "  5.08027588e-01  4.31948959e-02 -5.32070867e-01 -1.41911154e-01\n",
      " -4.84055924e-01  5.39594202e-01  1.39369656e-02 -3.15078621e-02\n",
      "  5.97029951e-02 -3.71609373e-01 -3.48126338e-01 -8.16746945e-02\n",
      " -6.14979772e-01 -6.46123348e-01  1.09203652e-01 -4.11257269e-01\n",
      " -2.68148541e-01  6.65502972e-01  5.88233895e-01  7.13083311e-01\n",
      "  5.58969803e-01  7.37806075e-01  8.81296556e-01  4.99265202e-01\n",
      "  4.74859861e-01  2.13294673e-02  5.36622808e-01  1.29708145e+00\n",
      "  1.31933764e+00  1.06341779e+00  6.72110317e-01  3.58297153e-01\n",
      "  2.17690507e-01  1.17346417e-01  3.49168118e-01  6.20381861e-01\n",
      "  1.40241870e-02 -7.39813432e-02 -4.46433858e-01  1.94735852e-01\n",
      "  3.08408142e-01 -1.01980031e-01 -1.77409713e-01 -2.55399083e-01\n",
      "  8.68431594e-02  7.07458149e-01 -2.54457041e-01 -2.94104132e-01\n",
      "  5.37413318e-01  3.34080390e-01  1.10917348e-01 -2.91134588e-01\n",
      " -3.21848596e-01 -3.90946244e-01 -7.94029946e-03  9.70025005e-02\n",
      " -1.67857311e-01  4.04381297e-02  2.30348739e-01  1.72881569e-01\n",
      " -1.94573303e-01  1.87810691e-01  4.38054391e-01  1.06425137e+00\n",
      "  8.62967906e-01  5.91098285e-01  3.64250302e-01  6.62291100e-01\n",
      "  8.41550161e-02  8.77931758e-01  4.76379727e-01  7.54879298e-01\n",
      "  5.04361843e-01  4.49426233e-01  2.23901522e-01  2.64820261e-01\n",
      "  5.85298749e-01 -3.05030159e-01  1.81103960e-01 -7.58269264e-01\n",
      " -6.07974837e-01 -5.69381877e-01 -5.59956934e-01 -9.88105148e-01\n",
      " -4.03399622e-01 -4.40322576e-01  1.61920592e-01  5.46567271e-01\n",
      "  1.06964774e+00  1.04830130e+00  1.32085068e+00  3.25318132e-01\n",
      " -9.77460352e-02 -3.85500429e-01  2.07327038e-01  1.95990429e-02\n",
      " -1.88317273e-01 -2.86921695e-01  4.80317719e-01  6.57150948e-01\n",
      "  4.22001949e-01 -1.56973215e-01  1.47747509e-01 -1.98228674e-01\n",
      " -5.09298968e-01]\n",
      "sample mean: -0.09900046345765039\n",
      "sample var: 0.78113838602328\n"
     ]
    },
    {
     "data": {
      "text/plain": "<Figure size 1000x500 with 1 Axes>",
      "image/png": "[encoded data removed]"
     },
     "metadata": {},
     "output_type": "display_data"
    }
   ],
   "source": [
    "# write your code here\n",
    "true_mean = 0.0\n",
    "true_variance = 1.0\n",
    "\n",
    "def gaussian_mixture_pdf():\n",
    "    pdf1 = gaussian_pdf(-1, 0.5)\n",
    "    pdf2 = gaussian_pdf(20, 0.5)\n",
    "    return lambda f : pdf1(f) + pdf2(f)\n",
    "# z = np.linspace(-5.0, 5.0, 500)\n",
    "# true_pdf = gaussian_pdf(mu=true_mean, sigma1=np.sqrt(true_variance))\n",
    "# mixture_pdf = gaussian_mixture_pdf()\n",
    "def mixture_pdf(z):\n",
    "    pdf1 = gaussian_pdf(-1, 0.5)\n",
    "    pdf2 = gaussian_pdf(200, 0.5)\n",
    "    return pdf2(z)\n",
    "\n",
    "# Metropolis_samples = Metropolis_Gaussian(, n_samples=10000)\n",
    "#\n",
    "# print(\"sample mean:\", Metropolis_samples.mean())\n",
    "# print(\"sample var:\", Metropolis_samples.var())\n",
    "# plot_samples_histogram(true_pdf, Metropolis_samples)\n",
    "Metropolis_samples = Metropolis_Gaussian(mixture_pdf, n_samples=1000)\n",
    "print(Metropolis_samples)\n",
    "print(\"sample mean:\", Metropolis_samples.mean())\n",
    "print(\"sample var:\", Metropolis_samples.var())\n",
    "plot_samples_histogram(mixture_pdf, Metropolis_samples)"
   ],
   "metadata": {
    "collapsed": false
   }
  },
  {
   "cell_type": "markdown",
   "metadata": {},
   "source": [
    "## 3) Bayesian Linear Regression with PyMC3\n",
    "\n",
    "You should be familiar with the concept of linear regression week 2 lectures and lab and its Bayesian formulation week 3 lectures and Bishop 3.3. In this section we will recap the key ideas and explore how such a model can be defined and fitted to some example data in practice."
   ]
  },
  {
   "cell_type": "markdown",
   "metadata": {},
   "source": [
    "### Introducing PyMC3\n",
    "[PyMC3](https://docs.pymc.io/) is a library that provides a lot of useful functionality for working with probabilistic models in Python. Importantly, it allows for Bayesian networks to be programmatically defined and it provides efficient implementations of a number of different MCMC methods including the Metropolis algorithm.\n",
    "\n",
    "If you haven't done so already then please make sure you have installed `pymc3` before proceeding."
   ]
  },
  {
   "cell_type": "code",
   "execution_count": 382,
   "metadata": {},
   "outputs": [],
   "source": [
    "import pymc3 as pm"
   ]
  },
  {
   "cell_type": "markdown",
   "metadata": {},
   "source": [
    "### 3.1) Generating some example data for our linear model\n",
    "We will first generate some example data $\\mathcal{D}=\\{(x_i, y_i)\\}_N$ where $$ y_i = w_0 + w_1x_i + \\epsilon$$ with $w_0=6$, $w_1=2$, $\\epsilon \\sim \\mathcal{N}(\\mu=0, \\sigma=1)$."
   ]
  },
  {
   "cell_type": "code",
   "execution_count": 376,
   "metadata": {},
   "outputs": [],
   "source": [
    "n = 50\n",
    "true_w0 = 6\n",
    "true_w1 = 2\n",
    "true_sigma = 1\n",
    "\n",
    "x = np.linspace(0, 1, n)\n",
    "y = true_w0 + true_w1*x + np.random.normal(scale=true_sigma, size=n)"
   ]
  },
  {
   "cell_type": "markdown",
   "metadata": {},
   "source": [
    "Make a scatter plot of the data points and plot the line corresponding to the mean of $y$ using the known parameters."
   ]
  },
  {
   "cell_type": "code",
   "execution_count": 378,
   "metadata": {},
   "outputs": [
    {
     "data": {
      "text/plain": "[<matplotlib.lines.Line2D at 0x20e1b4455b0>]"
     },
     "execution_count": 378,
     "metadata": {},
     "output_type": "execute_result"
    },
    {
     "data": {
      "text/plain": "<Figure size 640x480 with 1 Axes>",
      "image/png": "[encoded data removed]"
     },
     "metadata": {},
     "output_type": "display_data"
    }
   ],
   "source": [
    "# write your code here\n",
    "fig, ax= plt.subplots()\n",
    "ax.set_xlabel(\"xs\")\n",
    "ax.set_ylabel(\"ys\")\n",
    "ax.scatter(x, y)\n",
    "\n",
    "ax.plot(x, true_w0 + true_w1*x + 0, 'r', label=\"fitted line\")"
   ]
  },
  {
   "cell_type": "markdown",
   "metadata": {},
   "source": [
    "### 3.2) Bayesian Linear Regression model in PyMC3\n",
    "\n",
    "Without knowledge of the true model parameters, the goal of Bayesian linear regression is to obtain a distribution (posterior) over the model parameters from the data, $P(w_0,w_1,\\sigma \\vert \\mathcal{D})$. First we need to define a prior over the three parameters:\n",
    "- $p(w_0) = \\mathcal{N}(0, 20)$\n",
    "- $p(w_1) = \\mathcal{N}(0, 20)$\n",
    "- $p(\\sigma) = U(0, 20)$\n",
    "\n",
    "Below is the code to define this model in `pymc3`. Note that this code performs MCMC using a No U-Turn Sampler (NUTS) which operates using the same principles as the Metropolis algorithm but is much more efficient."
   ]
  },
  {
   "cell_type": "code",
   "execution_count": 379,
   "metadata": {
    "scrolled": false
   },
   "outputs": [
    {
     "name": "stdout",
     "output_type": "stream",
     "text": [
      "\n",
      "You can find the C code in this temporary file: C:\\Users\\HBZT\\AppData\\Local\\Temp\\theano_compilation_error_3bdd9l0w\n",
      "library ine is not found.\n"
     ]
    },
    {
     "ename": "Exception",
     "evalue": "('Compilation failed (return status=1): In file included from C:\\\\Users\\\\HBZT\\\\.conda\\\\envs\\\\uoe2t\\\\include/Python.h:63,.                  from C:\\\\Users\\\\HBZT\\\\AppData\\\\Local\\\\Theano\\\\compiledir_Windows-10-10.0.22000-SP0-Intel64_Family_6_Model_154_Stepping_3_GenuineIntel-3.8.13-64\\\\tmpvimrs8f0\\\\mod.cpp:1:. C:\\\\Users\\\\HBZT\\\\.conda\\\\envs\\\\uoe2t\\\\include/pyport.h:726:2: error: #error \"LONG_BIT definition appears wrong for platform (bad gcc/glibc config?).\".   726 | #error \"LONG_BIT definition appears wrong for platform (bad gcc/glibc config?).\".       |  ^~~~~. In file included from C:\\\\Users\\\\HBZT\\\\.conda\\\\envs\\\\uoe2t\\\\include/Python.h:156,.                  from C:\\\\Users\\\\HBZT\\\\AppData\\\\Local\\\\Theano\\\\compiledir_Windows-10-10.0.22000-SP0-Intel64_Family_6_Model_154_Stepping_3_GenuineIntel-3.8.13-64\\\\tmpvimrs8f0\\\\mod.cpp:1:. C:\\\\Users\\\\HBZT\\\\.conda\\\\envs\\\\uoe2t\\\\include/fileutils.h:79:5: error: ‘__int64’ does not name a type; did you mean ‘__int64_t’?.    79 |     __int64 st_size;.       |     ^~~~~~~.       |     __int64_t. In file included from /usr/include/sys/stat.h:22,.                  from C:\\\\Users\\\\HBZT\\\\.conda\\\\envs\\\\uoe2t\\\\include/pyport.h:245,.                  from C:\\\\Users\\\\HBZT\\\\.conda\\\\envs\\\\uoe2t\\\\include/Python.h:63,.                  from C:\\\\Users\\\\HBZT\\\\AppData\\\\Local\\\\Theano\\\\compiledir_Windows-10-10.0.22000-SP0-Intel64_Family_6_Model_154_Stepping_3_GenuineIntel-3.8.13-64\\\\tmpvimrs8f0\\\\mod.cpp:1:. C:\\\\Users\\\\HBZT\\\\.conda\\\\envs\\\\uoe2t\\\\include/fileutils.h:80:12: error: expected ‘;’ at end of member declaration.    80 |     time_t st_atime;.       |            ^~~~~~~~. C:\\\\Users\\\\HBZT\\\\.conda\\\\envs\\\\uoe2t\\\\include/fileutils.h:80:12: error: expected unqualified-id before ‘.’ token.    80 |     time_t st_atime;.       |            ^~~~~~~~. C:\\\\Users\\\\HBZT\\\\.conda\\\\envs\\\\uoe2t\\\\include/fileutils.h:82:12: error: expected ‘;’ at end of member declaration.    82 |     time_t st_mtime;.       |            ^~~~~~~~. C:\\\\Users\\\\HBZT\\\\.conda\\\\envs\\\\uoe2t\\\\include/fileutils.h:82:12: error: expected unqualified-id before ‘.’ token.    82 |     time_t st_mtime;.       |            ^~~~~~~~. C:\\\\Users\\\\HBZT\\\\.conda\\\\envs\\\\uoe2t\\\\include/fileutils.h:84:12: error: expected ‘;’ at end of member declaration.    84 |     time_t st_ctime;.       |            ^~~~~~~~. C:\\\\Users\\\\HBZT\\\\.conda\\\\envs\\\\uoe2t\\\\include/fileutils.h:84:12: error: expected unqualified-id before ‘.’ token.    84 |     time_t st_ctime;.       |            ^~~~~~~~. In file included from C:\\\\Users\\\\HBZT\\\\.conda\\\\envs\\\\uoe2t\\\\include/Python.h:8,.                  from C:\\\\Users\\\\HBZT\\\\AppData\\\\Local\\\\Theano\\\\compiledir_Windows-10-10.0.22000-SP0-Intel64_Family_6_Model_154_Stepping_3_GenuineIntel-3.8.13-64\\\\tmpvimrs8f0\\\\mod.cpp:1:. C:\\\\Users\\\\HBZT\\\\.conda\\\\envs\\\\uoe2t\\\\include/pyconfig.h:251:29: error: ‘__int64’ does not name a type; did you mean ‘__int64_t’?.   251 | #       define PY_LONG_LONG __int64.       |                             ^~~~~~~. C:\\\\Users\\\\HBZT\\\\.conda\\\\envs\\\\uoe2t\\\\lib\\\\site-packages\\\\numpy\\\\core\\\\include/numpy/npy_common.h:332:9: note: in expansion of macro ‘PY_LONG_LONG’.   332 | typedef PY_LONG_LONG npy_longlong;.       |         ^~~~~~~~~~~~. In file included from C:\\\\Users\\\\HBZT\\\\.conda\\\\envs\\\\uoe2t\\\\lib\\\\site-packages\\\\numpy\\\\core\\\\include/numpy/ndarraytypes.h:4,.                  from C:\\\\Users\\\\HBZT\\\\.conda\\\\envs\\\\uoe2t\\\\lib\\\\site-packages\\\\numpy\\\\core\\\\include/numpy/ndarrayobject.h:12,.                  from C:\\\\Users\\\\HBZT\\\\.conda\\\\envs\\\\uoe2t\\\\lib\\\\site-packages\\\\numpy\\\\core\\\\include/numpy/arrayobject.h:4,.                  from C:\\\\Users\\\\HBZT\\\\AppData\\\\Local\\\\Theano\\\\compiledir_Windows-10-10.0.22000-SP0-Intel64_Family_6_Model_154_Stepping_3_GenuineIntel-3.8.13-64\\\\tmpvimrs8f0\\\\mod.cpp:5:. C:\\\\Users\\\\HBZT\\\\.conda\\\\envs\\\\uoe2t\\\\lib\\\\site-packages\\\\numpy\\\\core\\\\include/numpy/npy_common.h:333:31: error: expected initializer before ‘npy_ulonglong’.   333 | typedef unsigned PY_LONG_LONG npy_ulonglong;.       |                               ^~~~~~~~~~~~~. In file included from C:\\\\Users\\\\HBZT\\\\.conda\\\\envs\\\\uoe2t\\\\lib\\\\site-packages\\\\numpy\\\\core\\\\include/numpy/ndarraytypes.h:4,.                  from C:\\\\Users\\\\HBZT\\\\.conda\\\\envs\\\\uoe2t\\\\lib\\\\site-packages\\\\numpy\\\\core\\\\include/numpy/ndarrayobject.h:12,.                  from C:\\\\Users\\\\HBZT\\\\.conda\\\\envs\\\\uoe2t\\\\lib\\\\site-packages\\\\numpy\\\\core\\\\include/numpy/arrayobject.h:4,.                  from C:\\\\Users\\\\HBZT\\\\AppData\\\\Local\\\\Theano\\\\compiledir_Windows-10-10.0.22000-SP0-Intel64_Family_6_Model_154_Stepping_3_GenuineIntel-3.8.13-64\\\\tmpvimrs8f0\\\\mod.cpp:5:. C:\\\\Users\\\\HBZT\\\\.conda\\\\envs\\\\uoe2t\\\\lib\\\\site-packages\\\\numpy\\\\core\\\\include/numpy/npy_common.h:641:17: error: ‘npy_longlong’ does not name a type; did you mean ‘npy_ulong’?.   641 |         typedef npy_longlong npy_int64;.       |                 ^~~~~~~~~~~~.       |                 npy_ulong. C:\\\\Users\\\\HBZT\\\\.conda\\\\envs\\\\uoe2t\\\\lib\\\\site-packages\\\\numpy\\\\core\\\\include/numpy/npy_common.h:642:17: error: ‘npy_ulonglong’ does not name a type; did you mean ‘npy_ulong’?.   642 |         typedef npy_ulonglong npy_uint64;.       |                 ^~~~~~~~~~~~~.       |                 npy_ulong. C:\\\\Users\\\\HBZT\\\\.conda\\\\envs\\\\uoe2t\\\\lib\\\\site-packages\\\\numpy\\\\core\\\\include/numpy/npy_common.h:1120:9: error: ‘npy_int64’ does not name a type; did you mean ‘npy_intp’?.  1120 | typedef npy_int64 npy_timedelta;.       |         ^~~~~~~~~.       |         npy_intp. C:\\\\Users\\\\HBZT\\\\.conda\\\\envs\\\\uoe2t\\\\lib\\\\site-packages\\\\numpy\\\\core\\\\include/numpy/npy_common.h:1121:9: error: ‘npy_int64’ does not name a type; did you mean ‘npy_intp’?.  1121 | typedef npy_int64 npy_datetime;.       |         ^~~~~~~~~.       |         npy_intp. In file included from C:\\\\Users\\\\HBZT\\\\.conda\\\\envs\\\\uoe2t\\\\lib\\\\site-packages\\\\numpy\\\\core\\\\include/numpy/ndarrayobject.h:12,.                  from C:\\\\Users\\\\HBZT\\\\.conda\\\\envs\\\\uoe2t\\\\lib\\\\site-packages\\\\numpy\\\\core\\\\include/numpy/arrayobject.h:4,.                  from C:\\\\Users\\\\HBZT\\\\AppData\\\\Local\\\\Theano\\\\compiledir_Windows-10-10.0.22000-SP0-Intel64_Family_6_Model_154_Stepping_3_GenuineIntel-3.8.13-64\\\\tmpvimrs8f0\\\\mod.cpp:5:. C:\\\\Users\\\\HBZT\\\\.conda\\\\envs\\\\uoe2t\\\\lib\\\\site-packages\\\\numpy\\\\core\\\\include/numpy/ndarraytypes.h:783:9: error: ‘npy_int64’ does not name a type; did you mean ‘npy_intp’?.   783 |         npy_int64 year;.       |         ^~~~~~~~~.       |         npy_intp. C:\\\\Users\\\\HBZT\\\\.conda\\\\envs\\\\uoe2t\\\\lib\\\\site-packages\\\\numpy\\\\core\\\\include/numpy/ndarraytypes.h:789:9: error: ‘npy_int64’ does not name a type; did you mean ‘npy_intp’?.   789 |         npy_int64 day;.       |         ^~~~~~~~~.       |         npy_intp. In file included from C:\\\\Users\\\\HBZT\\\\AppData\\\\Local\\\\Theano\\\\compiledir_Windows-10-10.0.22000-SP0-Intel64_Family_6_Model_154_Stepping_3_GenuineIntel-3.8.13-64\\\\tmpvimrs8f0\\\\mod.cpp:6:. C:\\\\Users\\\\HBZT\\\\.conda\\\\envs\\\\uoe2t\\\\lib\\\\site-packages\\\\numpy\\\\core\\\\include/numpy/arrayscalars.h:38:9: error: ‘npy_longlong’ does not name a type; did you mean ‘npy_ulong’?.    38 |         npy_longlong obval;.       |         ^~~~~~~~~~~~.       |         npy_ulong. C:\\\\Users\\\\HBZT\\\\.conda\\\\envs\\\\uoe2t\\\\lib\\\\site-packages\\\\numpy\\\\core\\\\include/numpy/arrayscalars.h:68:9: error: ‘npy_ulonglong’ does not name a type; did you mean ‘npy_ulong’?.    68 |         npy_ulonglong obval;.       |         ^~~~~~~~~~~~~.       |         npy_ulong. C:\\\\Users\\\\HBZT\\\\.conda\\\\envs\\\\uoe2t\\\\lib\\\\site-packages\\\\numpy\\\\core\\\\include/numpy/arrayscalars.h:121:9: error: ‘npy_datetime’ does not name a type.   121 |         npy_datetime obval;.       |         ^~~~~~~~~~~~. C:\\\\Users\\\\HBZT\\\\.conda\\\\envs\\\\uoe2t\\\\lib\\\\site-packages\\\\numpy\\\\core\\\\include/numpy/arrayscalars.h:127:9: error: ‘npy_timedelta’ does not name a type; did you mean ‘npy_timedeltastruct’?.   127 |         npy_timedelta obval;.       |         ^~~~~~~~~~~~~.       |         npy_timedeltastruct. cc1plus: note: unrecognized command-line option ‘-Wno-c++11-narrowing’ may have been intended to silence earlier diagnostics. ', 'FunctionGraph(Elemwise{true_div,no_inplace}(TensorConstant{1.0}, TensorConstant{0.0025}))')",
     "output_type": "error",
     "traceback": [
      "\u001B[1;31m---------------------------------------------------------------------------\u001B[0m",
      "\u001B[1;31mException\u001B[0m                                 Traceback (most recent call last)",
      "Input \u001B[1;32mIn [379]\u001B[0m, in \u001B[0;36m<cell line: 2>\u001B[1;34m()\u001B[0m\n\u001B[0;32m      1\u001B[0m num_samples \u001B[38;5;241m=\u001B[39m \u001B[38;5;241m1000\u001B[39m\n\u001B[0;32m      2\u001B[0m \u001B[38;5;28;01mwith\u001B[39;00m pm\u001B[38;5;241m.\u001B[39mModel() \u001B[38;5;28;01mas\u001B[39;00m model:\n\u001B[0;32m      3\u001B[0m     \u001B[38;5;66;03m# Defining our priors\u001B[39;00m\n\u001B[1;32m----> 4\u001B[0m     w0 \u001B[38;5;241m=\u001B[39m \u001B[43mpm\u001B[49m\u001B[38;5;241;43m.\u001B[39;49m\u001B[43mNormal\u001B[49m\u001B[43m(\u001B[49m\u001B[38;5;124;43m'\u001B[39;49m\u001B[38;5;124;43mw0\u001B[39;49m\u001B[38;5;124;43m'\u001B[39;49m\u001B[43m,\u001B[49m\u001B[43m \u001B[49m\u001B[43mmu\u001B[49m\u001B[38;5;241;43m=\u001B[39;49m\u001B[38;5;241;43m0\u001B[39;49m\u001B[43m,\u001B[49m\u001B[43m \u001B[49m\u001B[43msd\u001B[49m\u001B[38;5;241;43m=\u001B[39;49m\u001B[38;5;241;43m20\u001B[39;49m\u001B[43m)\u001B[49m\n\u001B[0;32m      5\u001B[0m     w1 \u001B[38;5;241m=\u001B[39m pm\u001B[38;5;241m.\u001B[39mNormal(\u001B[38;5;124m'\u001B[39m\u001B[38;5;124mw1\u001B[39m\u001B[38;5;124m'\u001B[39m, mu\u001B[38;5;241m=\u001B[39m\u001B[38;5;241m0\u001B[39m, sd\u001B[38;5;241m=\u001B[39m\u001B[38;5;241m20\u001B[39m)\n\u001B[0;32m      6\u001B[0m     sigma \u001B[38;5;241m=\u001B[39m pm\u001B[38;5;241m.\u001B[39mUniform(\u001B[38;5;124m'\u001B[39m\u001B[38;5;124msigma\u001B[39m\u001B[38;5;124m'\u001B[39m, lower\u001B[38;5;241m=\u001B[39m\u001B[38;5;241m0\u001B[39m, upper\u001B[38;5;241m=\u001B[39m\u001B[38;5;241m20\u001B[39m)\n",
      "File \u001B[1;32m~\\.conda\\envs\\uoe2t\\lib\\site-packages\\pymc3\\distributions\\distribution.py:121\u001B[0m, in \u001B[0;36mDistribution.__new__\u001B[1;34m(cls, name, *args, **kwargs)\u001B[0m\n\u001B[0;32m    119\u001B[0m     dist \u001B[38;5;241m=\u001B[39m \u001B[38;5;28mcls\u001B[39m\u001B[38;5;241m.\u001B[39mdist(\u001B[38;5;241m*\u001B[39margs, \u001B[38;5;241m*\u001B[39m\u001B[38;5;241m*\u001B[39mkwargs, shape\u001B[38;5;241m=\u001B[39mshape)\n\u001B[0;32m    120\u001B[0m \u001B[38;5;28;01melse\u001B[39;00m:\n\u001B[1;32m--> 121\u001B[0m     dist \u001B[38;5;241m=\u001B[39m \u001B[38;5;28;43mcls\u001B[39;49m\u001B[38;5;241;43m.\u001B[39;49m\u001B[43mdist\u001B[49m\u001B[43m(\u001B[49m\u001B[38;5;241;43m*\u001B[39;49m\u001B[43margs\u001B[49m\u001B[43m,\u001B[49m\u001B[43m \u001B[49m\u001B[38;5;241;43m*\u001B[39;49m\u001B[38;5;241;43m*\u001B[39;49m\u001B[43mkwargs\u001B[49m\u001B[43m)\u001B[49m\n\u001B[0;32m    122\u001B[0m \u001B[38;5;28;01mreturn\u001B[39;00m model\u001B[38;5;241m.\u001B[39mVar(name, dist, data, total_size, dims\u001B[38;5;241m=\u001B[39mdims)\n",
      "File \u001B[1;32m~\\.conda\\envs\\uoe2t\\lib\\site-packages\\pymc3\\distributions\\distribution.py:130\u001B[0m, in \u001B[0;36mDistribution.dist\u001B[1;34m(cls, *args, **kwargs)\u001B[0m\n\u001B[0;32m    127\u001B[0m \u001B[38;5;129m@classmethod\u001B[39m\n\u001B[0;32m    128\u001B[0m \u001B[38;5;28;01mdef\u001B[39;00m \u001B[38;5;21mdist\u001B[39m(\u001B[38;5;28mcls\u001B[39m, \u001B[38;5;241m*\u001B[39margs, \u001B[38;5;241m*\u001B[39m\u001B[38;5;241m*\u001B[39mkwargs):\n\u001B[0;32m    129\u001B[0m     dist \u001B[38;5;241m=\u001B[39m \u001B[38;5;28mobject\u001B[39m\u001B[38;5;241m.\u001B[39m\u001B[38;5;21m__new__\u001B[39m(\u001B[38;5;28mcls\u001B[39m)\n\u001B[1;32m--> 130\u001B[0m     \u001B[43mdist\u001B[49m\u001B[38;5;241;43m.\u001B[39;49m\u001B[38;5;21;43m__init__\u001B[39;49m\u001B[43m(\u001B[49m\u001B[38;5;241;43m*\u001B[39;49m\u001B[43margs\u001B[49m\u001B[43m,\u001B[49m\u001B[43m \u001B[49m\u001B[38;5;241;43m*\u001B[39;49m\u001B[38;5;241;43m*\u001B[39;49m\u001B[43mkwargs\u001B[49m\u001B[43m)\u001B[49m\n\u001B[0;32m    131\u001B[0m     \u001B[38;5;28;01mreturn\u001B[39;00m dist\n",
      "File \u001B[1;32m~\\.conda\\envs\\uoe2t\\lib\\site-packages\\pymc3\\distributions\\continuous.py:488\u001B[0m, in \u001B[0;36mNormal.__init__\u001B[1;34m(self, mu, sigma, tau, sd, **kwargs)\u001B[0m\n\u001B[0;32m    485\u001B[0m \u001B[38;5;28mself\u001B[39m\u001B[38;5;241m.\u001B[39mtau \u001B[38;5;241m=\u001B[39m tt\u001B[38;5;241m.\u001B[39mas_tensor_variable(tau)\n\u001B[0;32m    487\u001B[0m \u001B[38;5;28mself\u001B[39m\u001B[38;5;241m.\u001B[39mmean \u001B[38;5;241m=\u001B[39m \u001B[38;5;28mself\u001B[39m\u001B[38;5;241m.\u001B[39mmedian \u001B[38;5;241m=\u001B[39m \u001B[38;5;28mself\u001B[39m\u001B[38;5;241m.\u001B[39mmode \u001B[38;5;241m=\u001B[39m \u001B[38;5;28mself\u001B[39m\u001B[38;5;241m.\u001B[39mmu \u001B[38;5;241m=\u001B[39m mu \u001B[38;5;241m=\u001B[39m tt\u001B[38;5;241m.\u001B[39mas_tensor_variable(floatX(mu))\n\u001B[1;32m--> 488\u001B[0m \u001B[38;5;28mself\u001B[39m\u001B[38;5;241m.\u001B[39mvariance \u001B[38;5;241m=\u001B[39m \u001B[38;5;241;43m1.0\u001B[39;49m\u001B[43m \u001B[49m\u001B[38;5;241;43m/\u001B[39;49m\u001B[43m \u001B[49m\u001B[38;5;28;43mself\u001B[39;49m\u001B[38;5;241;43m.\u001B[39;49m\u001B[43mtau\u001B[49m\n\u001B[0;32m    490\u001B[0m assert_negative_support(sigma, \u001B[38;5;124m\"\u001B[39m\u001B[38;5;124msigma\u001B[39m\u001B[38;5;124m\"\u001B[39m, \u001B[38;5;124m\"\u001B[39m\u001B[38;5;124mNormal\u001B[39m\u001B[38;5;124m\"\u001B[39m)\n\u001B[0;32m    491\u001B[0m assert_negative_support(tau, \u001B[38;5;124m\"\u001B[39m\u001B[38;5;124mtau\u001B[39m\u001B[38;5;124m\"\u001B[39m, \u001B[38;5;124m\"\u001B[39m\u001B[38;5;124mNormal\u001B[39m\u001B[38;5;124m\"\u001B[39m)\n",
      "File \u001B[1;32m~\\.conda\\envs\\uoe2t\\lib\\site-packages\\theano\\tensor\\var.py:176\u001B[0m, in \u001B[0;36m_tensor_py_operators.__rtruediv__\u001B[1;34m(self, other)\u001B[0m\n\u001B[0;32m    175\u001B[0m \u001B[38;5;28;01mdef\u001B[39;00m \u001B[38;5;21m__rtruediv__\u001B[39m(\u001B[38;5;28mself\u001B[39m, other):\n\u001B[1;32m--> 176\u001B[0m     \u001B[38;5;28;01mreturn\u001B[39;00m \u001B[43mtheano\u001B[49m\u001B[38;5;241;43m.\u001B[39;49m\u001B[43mtensor\u001B[49m\u001B[38;5;241;43m.\u001B[39;49m\u001B[43mbasic\u001B[49m\u001B[38;5;241;43m.\u001B[39;49m\u001B[43mtrue_div\u001B[49m\u001B[43m(\u001B[49m\u001B[43mother\u001B[49m\u001B[43m,\u001B[49m\u001B[43m \u001B[49m\u001B[38;5;28;43mself\u001B[39;49m\u001B[43m)\u001B[49m\n",
      "File \u001B[1;32m~\\.conda\\envs\\uoe2t\\lib\\site-packages\\theano\\graph\\op.py:253\u001B[0m, in \u001B[0;36mOp.__call__\u001B[1;34m(self, *inputs, **kwargs)\u001B[0m\n\u001B[0;32m    250\u001B[0m node \u001B[38;5;241m=\u001B[39m \u001B[38;5;28mself\u001B[39m\u001B[38;5;241m.\u001B[39mmake_node(\u001B[38;5;241m*\u001B[39minputs, \u001B[38;5;241m*\u001B[39m\u001B[38;5;241m*\u001B[39mkwargs)\n\u001B[0;32m    252\u001B[0m \u001B[38;5;28;01mif\u001B[39;00m config\u001B[38;5;241m.\u001B[39mcompute_test_value \u001B[38;5;241m!=\u001B[39m \u001B[38;5;124m\"\u001B[39m\u001B[38;5;124moff\u001B[39m\u001B[38;5;124m\"\u001B[39m:\n\u001B[1;32m--> 253\u001B[0m     \u001B[43mcompute_test_value\u001B[49m\u001B[43m(\u001B[49m\u001B[43mnode\u001B[49m\u001B[43m)\u001B[49m\n\u001B[0;32m    255\u001B[0m \u001B[38;5;28;01mif\u001B[39;00m \u001B[38;5;28mself\u001B[39m\u001B[38;5;241m.\u001B[39mdefault_output \u001B[38;5;129;01mis\u001B[39;00m \u001B[38;5;129;01mnot\u001B[39;00m \u001B[38;5;28;01mNone\u001B[39;00m:\n\u001B[0;32m    256\u001B[0m     rval \u001B[38;5;241m=\u001B[39m node\u001B[38;5;241m.\u001B[39moutputs[\u001B[38;5;28mself\u001B[39m\u001B[38;5;241m.\u001B[39mdefault_output]\n",
      "File \u001B[1;32m~\\.conda\\envs\\uoe2t\\lib\\site-packages\\theano\\graph\\op.py:126\u001B[0m, in \u001B[0;36mcompute_test_value\u001B[1;34m(node)\u001B[0m\n\u001B[0;32m    123\u001B[0m     compute_map[o] \u001B[38;5;241m=\u001B[39m [\u001B[38;5;28;01mFalse\u001B[39;00m]\n\u001B[0;32m    125\u001B[0m \u001B[38;5;66;03m# Create a thunk that performs the computation\u001B[39;00m\n\u001B[1;32m--> 126\u001B[0m thunk \u001B[38;5;241m=\u001B[39m \u001B[43mnode\u001B[49m\u001B[38;5;241;43m.\u001B[39;49m\u001B[43mop\u001B[49m\u001B[38;5;241;43m.\u001B[39;49m\u001B[43mmake_thunk\u001B[49m\u001B[43m(\u001B[49m\u001B[43mnode\u001B[49m\u001B[43m,\u001B[49m\u001B[43m \u001B[49m\u001B[43mstorage_map\u001B[49m\u001B[43m,\u001B[49m\u001B[43m \u001B[49m\u001B[43mcompute_map\u001B[49m\u001B[43m,\u001B[49m\u001B[43m \u001B[49m\u001B[43mno_recycling\u001B[49m\u001B[38;5;241;43m=\u001B[39;49m\u001B[43m[\u001B[49m\u001B[43m]\u001B[49m\u001B[43m)\u001B[49m\n\u001B[0;32m    127\u001B[0m thunk\u001B[38;5;241m.\u001B[39minputs \u001B[38;5;241m=\u001B[39m [storage_map[v] \u001B[38;5;28;01mfor\u001B[39;00m v \u001B[38;5;129;01min\u001B[39;00m node\u001B[38;5;241m.\u001B[39minputs]\n\u001B[0;32m    128\u001B[0m thunk\u001B[38;5;241m.\u001B[39moutputs \u001B[38;5;241m=\u001B[39m [storage_map[v] \u001B[38;5;28;01mfor\u001B[39;00m v \u001B[38;5;129;01min\u001B[39;00m node\u001B[38;5;241m.\u001B[39moutputs]\n",
      "File \u001B[1;32m~\\.conda\\envs\\uoe2t\\lib\\site-packages\\theano\\graph\\op.py:634\u001B[0m, in \u001B[0;36mCOp.make_thunk\u001B[1;34m(self, node, storage_map, compute_map, no_recycling, impl)\u001B[0m\n\u001B[0;32m    630\u001B[0m \u001B[38;5;28mself\u001B[39m\u001B[38;5;241m.\u001B[39mprepare_node(\n\u001B[0;32m    631\u001B[0m     node, storage_map\u001B[38;5;241m=\u001B[39mstorage_map, compute_map\u001B[38;5;241m=\u001B[39mcompute_map, impl\u001B[38;5;241m=\u001B[39m\u001B[38;5;124m\"\u001B[39m\u001B[38;5;124mc\u001B[39m\u001B[38;5;124m\"\u001B[39m\n\u001B[0;32m    632\u001B[0m )\n\u001B[0;32m    633\u001B[0m \u001B[38;5;28;01mtry\u001B[39;00m:\n\u001B[1;32m--> 634\u001B[0m     \u001B[38;5;28;01mreturn\u001B[39;00m \u001B[38;5;28;43mself\u001B[39;49m\u001B[38;5;241;43m.\u001B[39;49m\u001B[43mmake_c_thunk\u001B[49m\u001B[43m(\u001B[49m\u001B[43mnode\u001B[49m\u001B[43m,\u001B[49m\u001B[43m \u001B[49m\u001B[43mstorage_map\u001B[49m\u001B[43m,\u001B[49m\u001B[43m \u001B[49m\u001B[43mcompute_map\u001B[49m\u001B[43m,\u001B[49m\u001B[43m \u001B[49m\u001B[43mno_recycling\u001B[49m\u001B[43m)\u001B[49m\n\u001B[0;32m    635\u001B[0m \u001B[38;5;28;01mexcept\u001B[39;00m (\u001B[38;5;167;01mNotImplementedError\u001B[39;00m, MethodNotDefined):\n\u001B[0;32m    636\u001B[0m     \u001B[38;5;66;03m# We requested the c code, so don't catch the error.\u001B[39;00m\n\u001B[0;32m    637\u001B[0m     \u001B[38;5;28;01mif\u001B[39;00m impl \u001B[38;5;241m==\u001B[39m \u001B[38;5;124m\"\u001B[39m\u001B[38;5;124mc\u001B[39m\u001B[38;5;124m\"\u001B[39m:\n",
      "File \u001B[1;32m~\\.conda\\envs\\uoe2t\\lib\\site-packages\\theano\\graph\\op.py:600\u001B[0m, in \u001B[0;36mCOp.make_c_thunk\u001B[1;34m(self, node, storage_map, compute_map, no_recycling)\u001B[0m\n\u001B[0;32m    598\u001B[0m         \u001B[38;5;28mprint\u001B[39m(\u001B[38;5;124mf\u001B[39m\u001B[38;5;124m\"\u001B[39m\u001B[38;5;124mDisabling C code for \u001B[39m\u001B[38;5;132;01m{\u001B[39;00m\u001B[38;5;28mself\u001B[39m\u001B[38;5;132;01m}\u001B[39;00m\u001B[38;5;124m due to unsupported float16\u001B[39m\u001B[38;5;124m\"\u001B[39m)\n\u001B[0;32m    599\u001B[0m         \u001B[38;5;28;01mraise\u001B[39;00m \u001B[38;5;167;01mNotImplementedError\u001B[39;00m(\u001B[38;5;124m\"\u001B[39m\u001B[38;5;124mfloat16\u001B[39m\u001B[38;5;124m\"\u001B[39m)\n\u001B[1;32m--> 600\u001B[0m outputs \u001B[38;5;241m=\u001B[39m \u001B[43mcl\u001B[49m\u001B[38;5;241;43m.\u001B[39;49m\u001B[43mmake_thunk\u001B[49m\u001B[43m(\u001B[49m\n\u001B[0;32m    601\u001B[0m \u001B[43m    \u001B[49m\u001B[43minput_storage\u001B[49m\u001B[38;5;241;43m=\u001B[39;49m\u001B[43mnode_input_storage\u001B[49m\u001B[43m,\u001B[49m\u001B[43m \u001B[49m\u001B[43moutput_storage\u001B[49m\u001B[38;5;241;43m=\u001B[39;49m\u001B[43mnode_output_storage\u001B[49m\n\u001B[0;32m    602\u001B[0m \u001B[43m\u001B[49m\u001B[43m)\u001B[49m\n\u001B[0;32m    603\u001B[0m thunk, node_input_filters, node_output_filters \u001B[38;5;241m=\u001B[39m outputs\n\u001B[0;32m    605\u001B[0m \u001B[38;5;28;01mdef\u001B[39;00m \u001B[38;5;21mrval\u001B[39m():\n",
      "File \u001B[1;32m~\\.conda\\envs\\uoe2t\\lib\\site-packages\\theano\\link\\c\\basic.py:1203\u001B[0m, in \u001B[0;36mCLinker.make_thunk\u001B[1;34m(self, input_storage, output_storage, storage_map)\u001B[0m\n\u001B[0;32m   1175\u001B[0m \u001B[38;5;124;03m\"\"\"\u001B[39;00m\n\u001B[0;32m   1176\u001B[0m \u001B[38;5;124;03mCompiles this linker's fgraph and returns a function to perform the\u001B[39;00m\n\u001B[0;32m   1177\u001B[0m \u001B[38;5;124;03mcomputations, as well as lists of storage cells for both the inputs\u001B[39;00m\n\u001B[1;32m   (...)\u001B[0m\n\u001B[0;32m   1200\u001B[0m \u001B[38;5;124;03m  first_output = ostor[0].data\u001B[39;00m\n\u001B[0;32m   1201\u001B[0m \u001B[38;5;124;03m\"\"\"\u001B[39;00m\n\u001B[0;32m   1202\u001B[0m init_tasks, tasks \u001B[38;5;241m=\u001B[39m \u001B[38;5;28mself\u001B[39m\u001B[38;5;241m.\u001B[39mget_init_tasks()\n\u001B[1;32m-> 1203\u001B[0m cthunk, module, in_storage, out_storage, error_storage \u001B[38;5;241m=\u001B[39m \u001B[38;5;28;43mself\u001B[39;49m\u001B[38;5;241;43m.\u001B[39;49m\u001B[43m__compile__\u001B[49m\u001B[43m(\u001B[49m\n\u001B[0;32m   1204\u001B[0m \u001B[43m    \u001B[49m\u001B[43minput_storage\u001B[49m\u001B[43m,\u001B[49m\u001B[43m \u001B[49m\u001B[43moutput_storage\u001B[49m\u001B[43m,\u001B[49m\u001B[43m \u001B[49m\u001B[43mstorage_map\u001B[49m\n\u001B[0;32m   1205\u001B[0m \u001B[43m\u001B[49m\u001B[43m)\u001B[49m\n\u001B[0;32m   1207\u001B[0m res \u001B[38;5;241m=\u001B[39m _CThunk(cthunk, init_tasks, tasks, error_storage, module)\n\u001B[0;32m   1208\u001B[0m res\u001B[38;5;241m.\u001B[39mnodes \u001B[38;5;241m=\u001B[39m \u001B[38;5;28mself\u001B[39m\u001B[38;5;241m.\u001B[39mnode_order\n",
      "File \u001B[1;32m~\\.conda\\envs\\uoe2t\\lib\\site-packages\\theano\\link\\c\\basic.py:1138\u001B[0m, in \u001B[0;36mCLinker.__compile__\u001B[1;34m(self, input_storage, output_storage, storage_map)\u001B[0m\n\u001B[0;32m   1136\u001B[0m input_storage \u001B[38;5;241m=\u001B[39m \u001B[38;5;28mtuple\u001B[39m(input_storage)\n\u001B[0;32m   1137\u001B[0m output_storage \u001B[38;5;241m=\u001B[39m \u001B[38;5;28mtuple\u001B[39m(output_storage)\n\u001B[1;32m-> 1138\u001B[0m thunk, module \u001B[38;5;241m=\u001B[39m \u001B[38;5;28;43mself\u001B[39;49m\u001B[38;5;241;43m.\u001B[39;49m\u001B[43mcthunk_factory\u001B[49m\u001B[43m(\u001B[49m\n\u001B[0;32m   1139\u001B[0m \u001B[43m    \u001B[49m\u001B[43merror_storage\u001B[49m\u001B[43m,\u001B[49m\n\u001B[0;32m   1140\u001B[0m \u001B[43m    \u001B[49m\u001B[43minput_storage\u001B[49m\u001B[43m,\u001B[49m\n\u001B[0;32m   1141\u001B[0m \u001B[43m    \u001B[49m\u001B[43moutput_storage\u001B[49m\u001B[43m,\u001B[49m\n\u001B[0;32m   1142\u001B[0m \u001B[43m    \u001B[49m\u001B[43mstorage_map\u001B[49m\u001B[43m,\u001B[49m\n\u001B[0;32m   1143\u001B[0m \u001B[43m\u001B[49m\u001B[43m)\u001B[49m\n\u001B[0;32m   1144\u001B[0m \u001B[38;5;28;01mreturn\u001B[39;00m (\n\u001B[0;32m   1145\u001B[0m     thunk,\n\u001B[0;32m   1146\u001B[0m     module,\n\u001B[1;32m   (...)\u001B[0m\n\u001B[0;32m   1155\u001B[0m     error_storage,\n\u001B[0;32m   1156\u001B[0m )\n",
      "File \u001B[1;32m~\\.conda\\envs\\uoe2t\\lib\\site-packages\\theano\\link\\c\\basic.py:1634\u001B[0m, in \u001B[0;36mCLinker.cthunk_factory\u001B[1;34m(self, error_storage, in_storage, out_storage, storage_map)\u001B[0m\n\u001B[0;32m   1632\u001B[0m     \u001B[38;5;28;01mfor\u001B[39;00m node \u001B[38;5;129;01min\u001B[39;00m \u001B[38;5;28mself\u001B[39m\u001B[38;5;241m.\u001B[39mnode_order:\n\u001B[0;32m   1633\u001B[0m         node\u001B[38;5;241m.\u001B[39mop\u001B[38;5;241m.\u001B[39mprepare_node(node, storage_map, \u001B[38;5;28;01mNone\u001B[39;00m, \u001B[38;5;124m\"\u001B[39m\u001B[38;5;124mc\u001B[39m\u001B[38;5;124m\"\u001B[39m)\n\u001B[1;32m-> 1634\u001B[0m     module \u001B[38;5;241m=\u001B[39m \u001B[43mget_module_cache\u001B[49m\u001B[43m(\u001B[49m\u001B[43m)\u001B[49m\u001B[38;5;241;43m.\u001B[39;49m\u001B[43mmodule_from_key\u001B[49m\u001B[43m(\u001B[49m\u001B[43mkey\u001B[49m\u001B[38;5;241;43m=\u001B[39;49m\u001B[43mkey\u001B[49m\u001B[43m,\u001B[49m\u001B[43m \u001B[49m\u001B[43mlnk\u001B[49m\u001B[38;5;241;43m=\u001B[39;49m\u001B[38;5;28;43mself\u001B[39;49m\u001B[43m)\u001B[49m\n\u001B[0;32m   1636\u001B[0m \u001B[38;5;28mvars\u001B[39m \u001B[38;5;241m=\u001B[39m \u001B[38;5;28mself\u001B[39m\u001B[38;5;241m.\u001B[39minputs \u001B[38;5;241m+\u001B[39m \u001B[38;5;28mself\u001B[39m\u001B[38;5;241m.\u001B[39moutputs \u001B[38;5;241m+\u001B[39m \u001B[38;5;28mself\u001B[39m\u001B[38;5;241m.\u001B[39morphans\n\u001B[0;32m   1637\u001B[0m \u001B[38;5;66;03m# List of indices that should be ignored when passing the arguments\u001B[39;00m\n\u001B[0;32m   1638\u001B[0m \u001B[38;5;66;03m# (basically, everything that the previous call to uniq eliminated)\u001B[39;00m\n",
      "File \u001B[1;32m~\\.conda\\envs\\uoe2t\\lib\\site-packages\\theano\\link\\c\\cmodule.py:1191\u001B[0m, in \u001B[0;36mModuleCache.module_from_key\u001B[1;34m(self, key, lnk)\u001B[0m\n\u001B[0;32m   1189\u001B[0m \u001B[38;5;28;01mtry\u001B[39;00m:\n\u001B[0;32m   1190\u001B[0m     location \u001B[38;5;241m=\u001B[39m dlimport_workdir(\u001B[38;5;28mself\u001B[39m\u001B[38;5;241m.\u001B[39mdirname)\n\u001B[1;32m-> 1191\u001B[0m     module \u001B[38;5;241m=\u001B[39m \u001B[43mlnk\u001B[49m\u001B[38;5;241;43m.\u001B[39;49m\u001B[43mcompile_cmodule\u001B[49m\u001B[43m(\u001B[49m\u001B[43mlocation\u001B[49m\u001B[43m)\u001B[49m\n\u001B[0;32m   1192\u001B[0m     name \u001B[38;5;241m=\u001B[39m module\u001B[38;5;241m.\u001B[39m\u001B[38;5;18m__file__\u001B[39m\n\u001B[0;32m   1193\u001B[0m     \u001B[38;5;28;01massert\u001B[39;00m name\u001B[38;5;241m.\u001B[39mstartswith(location)\n",
      "File \u001B[1;32m~\\.conda\\envs\\uoe2t\\lib\\site-packages\\theano\\link\\c\\basic.py:1543\u001B[0m, in \u001B[0;36mCLinker.compile_cmodule\u001B[1;34m(self, location)\u001B[0m\n\u001B[0;32m   1541\u001B[0m \u001B[38;5;28;01mtry\u001B[39;00m:\n\u001B[0;32m   1542\u001B[0m     _logger\u001B[38;5;241m.\u001B[39mdebug(\u001B[38;5;124mf\u001B[39m\u001B[38;5;124m\"\u001B[39m\u001B[38;5;124mLOCATION \u001B[39m\u001B[38;5;132;01m{\u001B[39;00mlocation\u001B[38;5;132;01m}\u001B[39;00m\u001B[38;5;124m\"\u001B[39m)\n\u001B[1;32m-> 1543\u001B[0m     module \u001B[38;5;241m=\u001B[39m \u001B[43mc_compiler\u001B[49m\u001B[38;5;241;43m.\u001B[39;49m\u001B[43mcompile_str\u001B[49m\u001B[43m(\u001B[49m\n\u001B[0;32m   1544\u001B[0m \u001B[43m        \u001B[49m\u001B[43mmodule_name\u001B[49m\u001B[38;5;241;43m=\u001B[39;49m\u001B[43mmod\u001B[49m\u001B[38;5;241;43m.\u001B[39;49m\u001B[43mcode_hash\u001B[49m\u001B[43m,\u001B[49m\n\u001B[0;32m   1545\u001B[0m \u001B[43m        \u001B[49m\u001B[43msrc_code\u001B[49m\u001B[38;5;241;43m=\u001B[39;49m\u001B[43msrc_code\u001B[49m\u001B[43m,\u001B[49m\n\u001B[0;32m   1546\u001B[0m \u001B[43m        \u001B[49m\u001B[43mlocation\u001B[49m\u001B[38;5;241;43m=\u001B[39;49m\u001B[43mlocation\u001B[49m\u001B[43m,\u001B[49m\n\u001B[0;32m   1547\u001B[0m \u001B[43m        \u001B[49m\u001B[43minclude_dirs\u001B[49m\u001B[38;5;241;43m=\u001B[39;49m\u001B[38;5;28;43mself\u001B[39;49m\u001B[38;5;241;43m.\u001B[39;49m\u001B[43mheader_dirs\u001B[49m\u001B[43m(\u001B[49m\u001B[43m)\u001B[49m\u001B[43m,\u001B[49m\n\u001B[0;32m   1548\u001B[0m \u001B[43m        \u001B[49m\u001B[43mlib_dirs\u001B[49m\u001B[38;5;241;43m=\u001B[39;49m\u001B[38;5;28;43mself\u001B[39;49m\u001B[38;5;241;43m.\u001B[39;49m\u001B[43mlib_dirs\u001B[49m\u001B[43m(\u001B[49m\u001B[43m)\u001B[49m\u001B[43m,\u001B[49m\n\u001B[0;32m   1549\u001B[0m \u001B[43m        \u001B[49m\u001B[43mlibs\u001B[49m\u001B[38;5;241;43m=\u001B[39;49m\u001B[43mlibs\u001B[49m\u001B[43m,\u001B[49m\n\u001B[0;32m   1550\u001B[0m \u001B[43m        \u001B[49m\u001B[43mpreargs\u001B[49m\u001B[38;5;241;43m=\u001B[39;49m\u001B[43mpreargs\u001B[49m\u001B[43m,\u001B[49m\n\u001B[0;32m   1551\u001B[0m \u001B[43m    \u001B[49m\u001B[43m)\u001B[49m\n\u001B[0;32m   1552\u001B[0m \u001B[38;5;28;01mexcept\u001B[39;00m \u001B[38;5;167;01mException\u001B[39;00m \u001B[38;5;28;01mas\u001B[39;00m e:\n\u001B[0;32m   1553\u001B[0m     e\u001B[38;5;241m.\u001B[39margs \u001B[38;5;241m+\u001B[39m\u001B[38;5;241m=\u001B[39m (\u001B[38;5;28mstr\u001B[39m(\u001B[38;5;28mself\u001B[39m\u001B[38;5;241m.\u001B[39mfgraph),)\n",
      "File \u001B[1;32m~\\.conda\\envs\\uoe2t\\lib\\site-packages\\theano\\link\\c\\cmodule.py:2546\u001B[0m, in \u001B[0;36mGCC_compiler.compile_str\u001B[1;34m(module_name, src_code, location, include_dirs, lib_dirs, libs, preargs, py_module, hide_symbols)\u001B[0m\n\u001B[0;32m   2542\u001B[0m     \u001B[38;5;66;03m# We replace '\\n' by '. ' in the error message because when Python\u001B[39;00m\n\u001B[0;32m   2543\u001B[0m     \u001B[38;5;66;03m# prints the exception, having '\\n' in the text makes it more\u001B[39;00m\n\u001B[0;32m   2544\u001B[0m     \u001B[38;5;66;03m# difficult to read.\u001B[39;00m\n\u001B[0;32m   2545\u001B[0m     compile_stderr \u001B[38;5;241m=\u001B[39m compile_stderr\u001B[38;5;241m.\u001B[39mreplace(\u001B[38;5;124m\"\u001B[39m\u001B[38;5;130;01m\\n\u001B[39;00m\u001B[38;5;124m\"\u001B[39m, \u001B[38;5;124m\"\u001B[39m\u001B[38;5;124m. \u001B[39m\u001B[38;5;124m\"\u001B[39m)\n\u001B[1;32m-> 2546\u001B[0m     \u001B[38;5;28;01mraise\u001B[39;00m \u001B[38;5;167;01mException\u001B[39;00m(\n\u001B[0;32m   2547\u001B[0m         \u001B[38;5;124mf\u001B[39m\u001B[38;5;124m\"\u001B[39m\u001B[38;5;124mCompilation failed (return status=\u001B[39m\u001B[38;5;132;01m{\u001B[39;00mstatus\u001B[38;5;132;01m}\u001B[39;00m\u001B[38;5;124m): \u001B[39m\u001B[38;5;132;01m{\u001B[39;00mcompile_stderr\u001B[38;5;132;01m}\u001B[39;00m\u001B[38;5;124m\"\u001B[39m\n\u001B[0;32m   2548\u001B[0m     )\n\u001B[0;32m   2549\u001B[0m \u001B[38;5;28;01melif\u001B[39;00m config\u001B[38;5;241m.\u001B[39mcmodule__compilation_warning \u001B[38;5;129;01mand\u001B[39;00m compile_stderr:\n\u001B[0;32m   2550\u001B[0m     \u001B[38;5;66;03m# Print errors just below the command line.\u001B[39;00m\n\u001B[0;32m   2551\u001B[0m     \u001B[38;5;28mprint\u001B[39m(compile_stderr)\n",
      "\u001B[1;31mException\u001B[0m: ('Compilation failed (return status=1): In file included from C:\\\\Users\\\\HBZT\\\\.conda\\\\envs\\\\uoe2t\\\\include/Python.h:63,.                  from C:\\\\Users\\\\HBZT\\\\AppData\\\\Local\\\\Theano\\\\compiledir_Windows-10-10.0.22000-SP0-Intel64_Family_6_Model_154_Stepping_3_GenuineIntel-3.8.13-64\\\\tmpvimrs8f0\\\\mod.cpp:1:. C:\\\\Users\\\\HBZT\\\\.conda\\\\envs\\\\uoe2t\\\\include/pyport.h:726:2: error: #error \"LONG_BIT definition appears wrong for platform (bad gcc/glibc config?).\".   726 | #error \"LONG_BIT definition appears wrong for platform (bad gcc/glibc config?).\".       |  ^~~~~. In file included from C:\\\\Users\\\\HBZT\\\\.conda\\\\envs\\\\uoe2t\\\\include/Python.h:156,.                  from C:\\\\Users\\\\HBZT\\\\AppData\\\\Local\\\\Theano\\\\compiledir_Windows-10-10.0.22000-SP0-Intel64_Family_6_Model_154_Stepping_3_GenuineIntel-3.8.13-64\\\\tmpvimrs8f0\\\\mod.cpp:1:. C:\\\\Users\\\\HBZT\\\\.conda\\\\envs\\\\uoe2t\\\\include/fileutils.h:79:5: error: ‘__int64’ does not name a type; did you mean ‘__int64_t’?.    79 |     __int64 st_size;.       |     ^~~~~~~.       |     __int64_t. In file included from /usr/include/sys/stat.h:22,.                  from C:\\\\Users\\\\HBZT\\\\.conda\\\\envs\\\\uoe2t\\\\include/pyport.h:245,.                  from C:\\\\Users\\\\HBZT\\\\.conda\\\\envs\\\\uoe2t\\\\include/Python.h:63,.                  from C:\\\\Users\\\\HBZT\\\\AppData\\\\Local\\\\Theano\\\\compiledir_Windows-10-10.0.22000-SP0-Intel64_Family_6_Model_154_Stepping_3_GenuineIntel-3.8.13-64\\\\tmpvimrs8f0\\\\mod.cpp:1:. C:\\\\Users\\\\HBZT\\\\.conda\\\\envs\\\\uoe2t\\\\include/fileutils.h:80:12: error: expected ‘;’ at end of member declaration.    80 |     time_t st_atime;.       |            ^~~~~~~~. C:\\\\Users\\\\HBZT\\\\.conda\\\\envs\\\\uoe2t\\\\include/fileutils.h:80:12: error: expected unqualified-id before ‘.’ token.    80 |     time_t st_atime;.       |            ^~~~~~~~. C:\\\\Users\\\\HBZT\\\\.conda\\\\envs\\\\uoe2t\\\\include/fileutils.h:82:12: error: expected ‘;’ at end of member declaration.    82 |     time_t st_mtime;.       |            ^~~~~~~~. C:\\\\Users\\\\HBZT\\\\.conda\\\\envs\\\\uoe2t\\\\include/fileutils.h:82:12: error: expected unqualified-id before ‘.’ token.    82 |     time_t st_mtime;.       |            ^~~~~~~~. C:\\\\Users\\\\HBZT\\\\.conda\\\\envs\\\\uoe2t\\\\include/fileutils.h:84:12: error: expected ‘;’ at end of member declaration.    84 |     time_t st_ctime;.       |            ^~~~~~~~. C:\\\\Users\\\\HBZT\\\\.conda\\\\envs\\\\uoe2t\\\\include/fileutils.h:84:12: error: expected unqualified-id before ‘.’ token.    84 |     time_t st_ctime;.       |            ^~~~~~~~. In file included from C:\\\\Users\\\\HBZT\\\\.conda\\\\envs\\\\uoe2t\\\\include/Python.h:8,.                  from C:\\\\Users\\\\HBZT\\\\AppData\\\\Local\\\\Theano\\\\compiledir_Windows-10-10.0.22000-SP0-Intel64_Family_6_Model_154_Stepping_3_GenuineIntel-3.8.13-64\\\\tmpvimrs8f0\\\\mod.cpp:1:. C:\\\\Users\\\\HBZT\\\\.conda\\\\envs\\\\uoe2t\\\\include/pyconfig.h:251:29: error: ‘__int64’ does not name a type; did you mean ‘__int64_t’?.   251 | #       define PY_LONG_LONG __int64.       |                             ^~~~~~~. C:\\\\Users\\\\HBZT\\\\.conda\\\\envs\\\\uoe2t\\\\lib\\\\site-packages\\\\numpy\\\\core\\\\include/numpy/npy_common.h:332:9: note: in expansion of macro ‘PY_LONG_LONG’.   332 | typedef PY_LONG_LONG npy_longlong;.       |         ^~~~~~~~~~~~. In file included from C:\\\\Users\\\\HBZT\\\\.conda\\\\envs\\\\uoe2t\\\\lib\\\\site-packages\\\\numpy\\\\core\\\\include/numpy/ndarraytypes.h:4,.                  from C:\\\\Users\\\\HBZT\\\\.conda\\\\envs\\\\uoe2t\\\\lib\\\\site-packages\\\\numpy\\\\core\\\\include/numpy/ndarrayobject.h:12,.                  from C:\\\\Users\\\\HBZT\\\\.conda\\\\envs\\\\uoe2t\\\\lib\\\\site-packages\\\\numpy\\\\core\\\\include/numpy/arrayobject.h:4,.                  from C:\\\\Users\\\\HBZT\\\\AppData\\\\Local\\\\Theano\\\\compiledir_Windows-10-10.0.22000-SP0-Intel64_Family_6_Model_154_Stepping_3_GenuineIntel-3.8.13-64\\\\tmpvimrs8f0\\\\mod.cpp:5:. C:\\\\Users\\\\HBZT\\\\.conda\\\\envs\\\\uoe2t\\\\lib\\\\site-packages\\\\numpy\\\\core\\\\include/numpy/npy_common.h:333:31: error: expected initializer before ‘npy_ulonglong’.   333 | typedef unsigned PY_LONG_LONG npy_ulonglong;.       |                               ^~~~~~~~~~~~~. In file included from C:\\\\Users\\\\HBZT\\\\.conda\\\\envs\\\\uoe2t\\\\lib\\\\site-packages\\\\numpy\\\\core\\\\include/numpy/ndarraytypes.h:4,.                  from C:\\\\Users\\\\HBZT\\\\.conda\\\\envs\\\\uoe2t\\\\lib\\\\site-packages\\\\numpy\\\\core\\\\include/numpy/ndarrayobject.h:12,.                  from C:\\\\Users\\\\HBZT\\\\.conda\\\\envs\\\\uoe2t\\\\lib\\\\site-packages\\\\numpy\\\\core\\\\include/numpy/arrayobject.h:4,.                  from C:\\\\Users\\\\HBZT\\\\AppData\\\\Local\\\\Theano\\\\compiledir_Windows-10-10.0.22000-SP0-Intel64_Family_6_Model_154_Stepping_3_GenuineIntel-3.8.13-64\\\\tmpvimrs8f0\\\\mod.cpp:5:. C:\\\\Users\\\\HBZT\\\\.conda\\\\envs\\\\uoe2t\\\\lib\\\\site-packages\\\\numpy\\\\core\\\\include/numpy/npy_common.h:641:17: error: ‘npy_longlong’ does not name a type; did you mean ‘npy_ulong’?.   641 |         typedef npy_longlong npy_int64;.       |                 ^~~~~~~~~~~~.       |                 npy_ulong. C:\\\\Users\\\\HBZT\\\\.conda\\\\envs\\\\uoe2t\\\\lib\\\\site-packages\\\\numpy\\\\core\\\\include/numpy/npy_common.h:642:17: error: ‘npy_ulonglong’ does not name a type; did you mean ‘npy_ulong’?.   642 |         typedef npy_ulonglong npy_uint64;.       |                 ^~~~~~~~~~~~~.       |                 npy_ulong. C:\\\\Users\\\\HBZT\\\\.conda\\\\envs\\\\uoe2t\\\\lib\\\\site-packages\\\\numpy\\\\core\\\\include/numpy/npy_common.h:1120:9: error: ‘npy_int64’ does not name a type; did you mean ‘npy_intp’?.  1120 | typedef npy_int64 npy_timedelta;.       |         ^~~~~~~~~.       |         npy_intp. C:\\\\Users\\\\HBZT\\\\.conda\\\\envs\\\\uoe2t\\\\lib\\\\site-packages\\\\numpy\\\\core\\\\include/numpy/npy_common.h:1121:9: error: ‘npy_int64’ does not name a type; did you mean ‘npy_intp’?.  1121 | typedef npy_int64 npy_datetime;.       |         ^~~~~~~~~.       |         npy_intp. In file included from C:\\\\Users\\\\HBZT\\\\.conda\\\\envs\\\\uoe2t\\\\lib\\\\site-packages\\\\numpy\\\\core\\\\include/numpy/ndarrayobject.h:12,.                  from C:\\\\Users\\\\HBZT\\\\.conda\\\\envs\\\\uoe2t\\\\lib\\\\site-packages\\\\numpy\\\\core\\\\include/numpy/arrayobject.h:4,.                  from C:\\\\Users\\\\HBZT\\\\AppData\\\\Local\\\\Theano\\\\compiledir_Windows-10-10.0.22000-SP0-Intel64_Family_6_Model_154_Stepping_3_GenuineIntel-3.8.13-64\\\\tmpvimrs8f0\\\\mod.cpp:5:. C:\\\\Users\\\\HBZT\\\\.conda\\\\envs\\\\uoe2t\\\\lib\\\\site-packages\\\\numpy\\\\core\\\\include/numpy/ndarraytypes.h:783:9: error: ‘npy_int64’ does not name a type; did you mean ‘npy_intp’?.   783 |         npy_int64 year;.       |         ^~~~~~~~~.       |         npy_intp. C:\\\\Users\\\\HBZT\\\\.conda\\\\envs\\\\uoe2t\\\\lib\\\\site-packages\\\\numpy\\\\core\\\\include/numpy/ndarraytypes.h:789:9: error: ‘npy_int64’ does not name a type; did you mean ‘npy_intp’?.   789 |         npy_int64 day;.       |         ^~~~~~~~~.       |         npy_intp. In file included from C:\\\\Users\\\\HBZT\\\\AppData\\\\Local\\\\Theano\\\\compiledir_Windows-10-10.0.22000-SP0-Intel64_Family_6_Model_154_Stepping_3_GenuineIntel-3.8.13-64\\\\tmpvimrs8f0\\\\mod.cpp:6:. C:\\\\Users\\\\HBZT\\\\.conda\\\\envs\\\\uoe2t\\\\lib\\\\site-packages\\\\numpy\\\\core\\\\include/numpy/arrayscalars.h:38:9: error: ‘npy_longlong’ does not name a type; did you mean ‘npy_ulong’?.    38 |         npy_longlong obval;.       |         ^~~~~~~~~~~~.       |         npy_ulong. C:\\\\Users\\\\HBZT\\\\.conda\\\\envs\\\\uoe2t\\\\lib\\\\site-packages\\\\numpy\\\\core\\\\include/numpy/arrayscalars.h:68:9: error: ‘npy_ulonglong’ does not name a type; did you mean ‘npy_ulong’?.    68 |         npy_ulonglong obval;.       |         ^~~~~~~~~~~~~.       |         npy_ulong. C:\\\\Users\\\\HBZT\\\\.conda\\\\envs\\\\uoe2t\\\\lib\\\\site-packages\\\\numpy\\\\core\\\\include/numpy/arrayscalars.h:121:9: error: ‘npy_datetime’ does not name a type.   121 |         npy_datetime obval;.       |         ^~~~~~~~~~~~. C:\\\\Users\\\\HBZT\\\\.conda\\\\envs\\\\uoe2t\\\\lib\\\\site-packages\\\\numpy\\\\core\\\\include/numpy/arrayscalars.h:127:9: error: ‘npy_timedelta’ does not name a type; did you mean ‘npy_timedeltastruct’?.   127 |         npy_timedelta obval;.       |         ^~~~~~~~~~~~~.       |         npy_timedeltastruct. cc1plus: note: unrecognized command-line option ‘-Wno-c++11-narrowing’ may have been intended to silence earlier diagnostics. ', 'FunctionGraph(Elemwise{true_div,no_inplace}(TensorConstant{1.0}, TensorConstant{0.0025}))')"
     ]
    }
   ],
   "source": [
    "num_samples = 1000\n",
    "with pm.Model() as model:\n",
    "    # Defining our priors\n",
    "    w0 = pm.Normal('w0', mu=0, sd=20)\n",
    "    w1 = pm.Normal('w1', mu=0, sd=20)\n",
    "    sigma = pm.Uniform('sigma', lower=0, upper=20)\n",
    "\n",
    "    y_est = w0 + w1*x # auxiliary variables\n",
    "\n",
    "    likelihood = pm.Normal('y', mu=y_est, sd=sigma, observed=y)\n",
    "    \n",
    "    # inference\n",
    "    sampler = pm.NUTS() # Hamiltonian MCMC with No U-Turn Sampler \n",
    "    # or alternatively\n",
    "    # sampler = pm.Metropolis()\n",
    "    \n",
    "    trace = pm.sample(num_samples, sampler, progressbar=True, cores=1, chains=2)\n",
    "    "
   ]
  },
  {
   "cell_type": "markdown",
   "metadata": {},
   "source": [
    "The `trace` variable now contains the sampled values from the posterior distribution for each of the model parameters. Each variable can be accessed using dictionary syntax `w1_trace = trace['w1']`. \n",
    "\n",
    "Make the following plots:\n",
    "- Histogram of the samples of $p(w_0 \\vert \\mathcal{D})$, $p(w_1 \\vert \\mathcal{D})$ and $p(\\sigma \\vert \\mathcal{D})$\n",
    "- A two-dimensional histogram of $p(w_0, w_1 \\vert \\mathcal{D})$ (see [hist2d](https://matplotlib.org/3.1.1/api/_as_gen/matplotlib.pyplot.hist2d.html)). What is the relationship between these two parameters and how do you interpret this relationship in terms of the model?\n",
    "- Take a single sample from the trace and plot the line corresponding to those parameters on top of a scatter plot of the data. Use the [`errorbar`](https://matplotlib.org/3.1.1/api/_as_gen/matplotlib.pyplot.errorbar.html) function to show the variance, $\\sigma$, of the noise term."
   ]
  },
  {
   "cell_type": "code",
   "execution_count": null,
   "metadata": {
    "scrolled": false
   },
   "outputs": [],
   "source": [
    "# write your code here\n"
   ]
  },
  {
   "cell_type": "markdown",
   "metadata": {},
   "source": [
    "### Exercises:\n",
    "1. Experiment with changing the prior distributions within the model: \n",
    "    - How does changing the prior distributions' mean or variance affect the posterior belief?\n",
    "    - What happens if the uniform distribution prior over $\\sigma$ is changed to exclude the true value? (e.g. $p(\\sigma) = U(5, 20)$)\n",
    "    \n",
    "2. Introduce a new parameter, $w_2$, to the data generation code such that\n",
    "    $$ y_i = w_0 + w_1x_i + w_2x_i^2+ \\epsilon$$\n",
    "   and adjust the model to perform inference for this parameter from the data.\n",
    "\n",
    "## Wrap up\n",
    "\n",
    "This lab covered a number of topics so let's recap:\n",
    "- First, we looked at a simple example of a graphical model and showed how to go about efficiently generating samples from a distribution that factorises over the graph using ancestral sampling.\n",
    "- We demonstrated the power of sampling by using samples to estimate quantities relating to the distribution.\n",
    "- We then looked at using the concepts of MCMC algorithms to generate samples from probability densities that are otherwise difficult to sample from and implemented the Metropolis algorithm.\n",
    "- Finally, we looked at the PyMC3 python library and how its efficient implementations of MCMC algorithms can be utilised within a Bayesian Linear Regression model.\n",
    "\n",
    "### References\n",
    "\n",
    "- COMS30035 Machine Learning lecture notes 3.\n",
    "- Bishop Pattern Recognition and Machine Learning: Chapter 3.3 for Bayesian linear regression, chapter 8.1 for graphical models and chapter 11.2 for MCMC."
   ]
  }
 ],
 "metadata": {
  "kernelspec": {
   "display_name": "Python 3",
   "language": "python",
   "name": "python3"
  },
  "language_info": {
   "codemirror_mode": {
    "name": "ipython",
    "version": 3
   },
   "file_extension": ".py",
   "mimetype": "text/x-python",
   "name": "python",
   "nbconvert_exporter": "python",
   "pygments_lexer": "ipython3",
   "version": "3.8.5"
  }
 },
 "nbformat": 4,
 "nbformat_minor": 2
}
